{
  "nbformat": 4,
  "nbformat_minor": 0,
  "metadata": {
    "colab": {
      "provenance": [],
      "authorship_tag": "ABX9TyMbJDO+OuS8+xjzHEZHiRBl",
      "include_colab_link": true
    },
    "kernelspec": {
      "name": "python3",
      "display_name": "Python 3"
    },
    "language_info": {
      "name": "python"
    }
  },
  "cells": [
    {
      "cell_type": "markdown",
      "metadata": {
        "id": "view-in-github",
        "colab_type": "text"
      },
      "source": [
        "<a href=\"https://colab.research.google.com/github/ShawneilRodrigues/deep-learning/blob/main/hyper_parameter_tuner.ipynb\" target=\"_parent\"><img src=\"https://colab.research.google.com/assets/colab-badge.svg\" alt=\"Open In Colab\"/></a>"
      ]
    },
    {
      "cell_type": "code",
      "execution_count": 18,
      "metadata": {
        "id": "exZniYmz2tWM"
      },
      "outputs": [],
      "source": [
        "import pandas as pd"
      ]
    },
    {
      "cell_type": "code",
      "source": [
        "df=pd.read_csv('diabetes.csv')"
      ],
      "metadata": {
        "id": "oWp0FziS3QLo"
      },
      "execution_count": 19,
      "outputs": []
    },
    {
      "cell_type": "code",
      "source": [
        "df.info()"
      ],
      "metadata": {
        "colab": {
          "base_uri": "https://localhost:8080/"
        },
        "id": "KO6l7mED3ceE",
        "outputId": "a5ff423a-0a00-4723-b076-1b8dd5206db3"
      },
      "execution_count": 20,
      "outputs": [
        {
          "output_type": "stream",
          "name": "stdout",
          "text": [
            "<class 'pandas.core.frame.DataFrame'>\n",
            "RangeIndex: 768 entries, 0 to 767\n",
            "Data columns (total 9 columns):\n",
            " #   Column                    Non-Null Count  Dtype  \n",
            "---  ------                    --------------  -----  \n",
            " 0   Pregnancies               768 non-null    int64  \n",
            " 1   Glucose                   768 non-null    int64  \n",
            " 2   BloodPressure             768 non-null    int64  \n",
            " 3   SkinThickness             768 non-null    int64  \n",
            " 4   Insulin                   768 non-null    int64  \n",
            " 5   BMI                       768 non-null    float64\n",
            " 6   DiabetesPedigreeFunction  768 non-null    float64\n",
            " 7   Age                       768 non-null    int64  \n",
            " 8   Outcome                   768 non-null    int64  \n",
            "dtypes: float64(2), int64(7)\n",
            "memory usage: 54.1 KB\n"
          ]
        }
      ]
    },
    {
      "cell_type": "code",
      "source": [
        "df.corr()['Outcome']"
      ],
      "metadata": {
        "colab": {
          "base_uri": "https://localhost:8080/"
        },
        "id": "0REg-eDK3f1z",
        "outputId": "f6d89f45-0cf0-499a-e9f0-b9cecd25bc5b"
      },
      "execution_count": 21,
      "outputs": [
        {
          "output_type": "execute_result",
          "data": {
            "text/plain": [
              "Pregnancies                 0.221898\n",
              "Glucose                     0.466581\n",
              "BloodPressure               0.065068\n",
              "SkinThickness               0.074752\n",
              "Insulin                     0.130548\n",
              "BMI                         0.292695\n",
              "DiabetesPedigreeFunction    0.173844\n",
              "Age                         0.238356\n",
              "Outcome                     1.000000\n",
              "Name: Outcome, dtype: float64"
            ]
          },
          "metadata": {},
          "execution_count": 21
        }
      ]
    },
    {
      "cell_type": "code",
      "source": [
        "x=df.iloc[:,:-1].values\n",
        "y=df.iloc[:,-1].values"
      ],
      "metadata": {
        "id": "TKXoArXe33r5"
      },
      "execution_count": 22,
      "outputs": []
    },
    {
      "cell_type": "code",
      "source": [
        "from sklearn.preprocessing import StandardScaler\n",
        "sc=StandardScaler()\n",
        "x=sc.fit_transform(x)"
      ],
      "metadata": {
        "id": "b9YZ12Kq4qzS"
      },
      "execution_count": 23,
      "outputs": []
    },
    {
      "cell_type": "code",
      "source": [
        "x"
      ],
      "metadata": {
        "colab": {
          "base_uri": "https://localhost:8080/"
        },
        "id": "_i538qfe42jS",
        "outputId": "b3c0b470-2ab2-42b8-aa26-e5014f7ad692"
      },
      "execution_count": 24,
      "outputs": [
        {
          "output_type": "execute_result",
          "data": {
            "text/plain": [
              "array([[ 0.63994726,  0.84832379,  0.14964075, ...,  0.20401277,\n",
              "         0.46849198,  1.4259954 ],\n",
              "       [-0.84488505, -1.12339636, -0.16054575, ..., -0.68442195,\n",
              "        -0.36506078, -0.19067191],\n",
              "       [ 1.23388019,  1.94372388, -0.26394125, ..., -1.10325546,\n",
              "         0.60439732, -0.10558415],\n",
              "       ...,\n",
              "       [ 0.3429808 ,  0.00330087,  0.14964075, ..., -0.73518964,\n",
              "        -0.68519336, -0.27575966],\n",
              "       [-0.84488505,  0.1597866 , -0.47073225, ..., -0.24020459,\n",
              "        -0.37110101,  1.17073215],\n",
              "       [-0.84488505, -0.8730192 ,  0.04624525, ..., -0.20212881,\n",
              "        -0.47378505, -0.87137393]])"
            ]
          },
          "metadata": {},
          "execution_count": 24
        }
      ]
    },
    {
      "cell_type": "code",
      "source": [
        "from sklearn.model_selection import train_test_split\n",
        "x_train,x_test,y_train,y_test=train_test_split(x,y,test_size=0.2,random_state=0)"
      ],
      "metadata": {
        "id": "1TowzdhP44Rk"
      },
      "execution_count": 25,
      "outputs": []
    },
    {
      "cell_type": "code",
      "source": [
        "import tensorflow\n",
        "from tensorflow import keras\n",
        "from tensorflow.keras import Sequential\n",
        "from tensorflow.keras.layers import Dense,Dropout"
      ],
      "metadata": {
        "id": "VT7yZcSx49tN"
      },
      "execution_count": 72,
      "outputs": []
    },
    {
      "cell_type": "code",
      "source": [
        "model=Sequential()\n",
        "model.add(Dense(32,activation='relu',input_dim=8))\n",
        "model.add(Dense(1,activation='sigmoid'))"
      ],
      "metadata": {
        "id": "kdd4326X5T0E"
      },
      "execution_count": 27,
      "outputs": []
    },
    {
      "cell_type": "code",
      "source": [
        "model.compile(optimizer='adam',loss='binary_crossentropy',metrics=['accuracy'])"
      ],
      "metadata": {
        "id": "z7p2qYhS5goH"
      },
      "execution_count": 28,
      "outputs": []
    },
    {
      "cell_type": "code",
      "source": [
        "model.fit(x_train,y_train,epochs=100,batch_size=32,validation_split=0.2)"
      ],
      "metadata": {
        "colab": {
          "base_uri": "https://localhost:8080/"
        },
        "id": "xQLJiwwi5vAo",
        "outputId": "92c4f543-6a2a-4e01-930f-6bc5b5902368"
      },
      "execution_count": 29,
      "outputs": [
        {
          "output_type": "stream",
          "name": "stdout",
          "text": [
            "Epoch 1/100\n",
            "16/16 [==============================] - 4s 105ms/step - loss: 0.7923 - accuracy: 0.4073 - val_loss: 0.8039 - val_accuracy: 0.3577\n",
            "Epoch 2/100\n",
            "16/16 [==============================] - 0s 31ms/step - loss: 0.7324 - accuracy: 0.4623 - val_loss: 0.7443 - val_accuracy: 0.4553\n",
            "Epoch 3/100\n",
            "16/16 [==============================] - 0s 30ms/step - loss: 0.6835 - accuracy: 0.5642 - val_loss: 0.6957 - val_accuracy: 0.5285\n",
            "Epoch 4/100\n",
            "16/16 [==============================] - 0s 19ms/step - loss: 0.6438 - accuracy: 0.6375 - val_loss: 0.6542 - val_accuracy: 0.6341\n",
            "Epoch 5/100\n",
            "16/16 [==============================] - 0s 30ms/step - loss: 0.6096 - accuracy: 0.7026 - val_loss: 0.6211 - val_accuracy: 0.6667\n",
            "Epoch 6/100\n",
            "16/16 [==============================] - 0s 30ms/step - loss: 0.5831 - accuracy: 0.7291 - val_loss: 0.5927 - val_accuracy: 0.7154\n",
            "Epoch 7/100\n",
            "16/16 [==============================] - 0s 23ms/step - loss: 0.5612 - accuracy: 0.7373 - val_loss: 0.5705 - val_accuracy: 0.7398\n",
            "Epoch 8/100\n",
            "16/16 [==============================] - 0s 28ms/step - loss: 0.5430 - accuracy: 0.7393 - val_loss: 0.5519 - val_accuracy: 0.7561\n",
            "Epoch 9/100\n",
            "16/16 [==============================] - 1s 35ms/step - loss: 0.5283 - accuracy: 0.7475 - val_loss: 0.5364 - val_accuracy: 0.7642\n",
            "Epoch 10/100\n",
            "16/16 [==============================] - 1s 31ms/step - loss: 0.5157 - accuracy: 0.7597 - val_loss: 0.5260 - val_accuracy: 0.7724\n",
            "Epoch 11/100\n",
            "16/16 [==============================] - 0s 31ms/step - loss: 0.5060 - accuracy: 0.7597 - val_loss: 0.5162 - val_accuracy: 0.7886\n",
            "Epoch 12/100\n",
            "16/16 [==============================] - 1s 41ms/step - loss: 0.4973 - accuracy: 0.7597 - val_loss: 0.5086 - val_accuracy: 0.7967\n",
            "Epoch 13/100\n",
            "16/16 [==============================] - 0s 29ms/step - loss: 0.4903 - accuracy: 0.7597 - val_loss: 0.5023 - val_accuracy: 0.7967\n",
            "Epoch 14/100\n",
            "16/16 [==============================] - 0s 29ms/step - loss: 0.4840 - accuracy: 0.7597 - val_loss: 0.4968 - val_accuracy: 0.7967\n",
            "Epoch 15/100\n",
            "16/16 [==============================] - 1s 33ms/step - loss: 0.4792 - accuracy: 0.7617 - val_loss: 0.4927 - val_accuracy: 0.7805\n",
            "Epoch 16/100\n",
            "16/16 [==============================] - 0s 24ms/step - loss: 0.4748 - accuracy: 0.7617 - val_loss: 0.4896 - val_accuracy: 0.7805\n",
            "Epoch 17/100\n",
            "16/16 [==============================] - 1s 47ms/step - loss: 0.4713 - accuracy: 0.7658 - val_loss: 0.4867 - val_accuracy: 0.7805\n",
            "Epoch 18/100\n",
            "16/16 [==============================] - 1s 32ms/step - loss: 0.4677 - accuracy: 0.7699 - val_loss: 0.4850 - val_accuracy: 0.7805\n",
            "Epoch 19/100\n",
            "16/16 [==============================] - 0s 13ms/step - loss: 0.4652 - accuracy: 0.7678 - val_loss: 0.4845 - val_accuracy: 0.7805\n",
            "Epoch 20/100\n",
            "16/16 [==============================] - 0s 14ms/step - loss: 0.4630 - accuracy: 0.7699 - val_loss: 0.4826 - val_accuracy: 0.7805\n",
            "Epoch 21/100\n",
            "16/16 [==============================] - 0s 15ms/step - loss: 0.4605 - accuracy: 0.7719 - val_loss: 0.4830 - val_accuracy: 0.7886\n",
            "Epoch 22/100\n",
            "16/16 [==============================] - 0s 21ms/step - loss: 0.4581 - accuracy: 0.7760 - val_loss: 0.4827 - val_accuracy: 0.7886\n",
            "Epoch 23/100\n",
            "16/16 [==============================] - 0s 14ms/step - loss: 0.4564 - accuracy: 0.7739 - val_loss: 0.4827 - val_accuracy: 0.7886\n",
            "Epoch 24/100\n",
            "16/16 [==============================] - 0s 15ms/step - loss: 0.4548 - accuracy: 0.7780 - val_loss: 0.4823 - val_accuracy: 0.7886\n",
            "Epoch 25/100\n",
            "16/16 [==============================] - 0s 22ms/step - loss: 0.4533 - accuracy: 0.7739 - val_loss: 0.4821 - val_accuracy: 0.7886\n",
            "Epoch 26/100\n",
            "16/16 [==============================] - 0s 16ms/step - loss: 0.4520 - accuracy: 0.7760 - val_loss: 0.4820 - val_accuracy: 0.7886\n",
            "Epoch 27/100\n",
            "16/16 [==============================] - 0s 22ms/step - loss: 0.4507 - accuracy: 0.7780 - val_loss: 0.4821 - val_accuracy: 0.7886\n",
            "Epoch 28/100\n",
            "16/16 [==============================] - 0s 28ms/step - loss: 0.4491 - accuracy: 0.7780 - val_loss: 0.4819 - val_accuracy: 0.7886\n",
            "Epoch 29/100\n",
            "16/16 [==============================] - 0s 15ms/step - loss: 0.4480 - accuracy: 0.7760 - val_loss: 0.4823 - val_accuracy: 0.7886\n",
            "Epoch 30/100\n",
            "16/16 [==============================] - 0s 11ms/step - loss: 0.4467 - accuracy: 0.7800 - val_loss: 0.4827 - val_accuracy: 0.7886\n",
            "Epoch 31/100\n",
            "16/16 [==============================] - 0s 12ms/step - loss: 0.4462 - accuracy: 0.7800 - val_loss: 0.4826 - val_accuracy: 0.7886\n",
            "Epoch 32/100\n",
            "16/16 [==============================] - 0s 7ms/step - loss: 0.4451 - accuracy: 0.7800 - val_loss: 0.4822 - val_accuracy: 0.7886\n",
            "Epoch 33/100\n",
            "16/16 [==============================] - 0s 12ms/step - loss: 0.4434 - accuracy: 0.7780 - val_loss: 0.4827 - val_accuracy: 0.7886\n",
            "Epoch 34/100\n",
            "16/16 [==============================] - 0s 10ms/step - loss: 0.4425 - accuracy: 0.7780 - val_loss: 0.4828 - val_accuracy: 0.7805\n",
            "Epoch 35/100\n",
            "16/16 [==============================] - 0s 11ms/step - loss: 0.4414 - accuracy: 0.7760 - val_loss: 0.4827 - val_accuracy: 0.7805\n",
            "Epoch 36/100\n",
            "16/16 [==============================] - 0s 12ms/step - loss: 0.4401 - accuracy: 0.7800 - val_loss: 0.4829 - val_accuracy: 0.7724\n",
            "Epoch 37/100\n",
            "16/16 [==============================] - 0s 14ms/step - loss: 0.4394 - accuracy: 0.7862 - val_loss: 0.4831 - val_accuracy: 0.7724\n",
            "Epoch 38/100\n",
            "16/16 [==============================] - 0s 17ms/step - loss: 0.4385 - accuracy: 0.7862 - val_loss: 0.4840 - val_accuracy: 0.7724\n",
            "Epoch 39/100\n",
            "16/16 [==============================] - 0s 11ms/step - loss: 0.4378 - accuracy: 0.7841 - val_loss: 0.4846 - val_accuracy: 0.7805\n",
            "Epoch 40/100\n",
            "16/16 [==============================] - 0s 7ms/step - loss: 0.4364 - accuracy: 0.7862 - val_loss: 0.4850 - val_accuracy: 0.7886\n",
            "Epoch 41/100\n",
            "16/16 [==============================] - 0s 13ms/step - loss: 0.4361 - accuracy: 0.7902 - val_loss: 0.4844 - val_accuracy: 0.7886\n",
            "Epoch 42/100\n",
            "16/16 [==============================] - 0s 11ms/step - loss: 0.4352 - accuracy: 0.7882 - val_loss: 0.4849 - val_accuracy: 0.7886\n",
            "Epoch 43/100\n",
            "16/16 [==============================] - 0s 10ms/step - loss: 0.4341 - accuracy: 0.7882 - val_loss: 0.4855 - val_accuracy: 0.7805\n",
            "Epoch 44/100\n",
            "16/16 [==============================] - 0s 10ms/step - loss: 0.4332 - accuracy: 0.7943 - val_loss: 0.4858 - val_accuracy: 0.7886\n",
            "Epoch 45/100\n",
            "16/16 [==============================] - 0s 8ms/step - loss: 0.4325 - accuracy: 0.7882 - val_loss: 0.4866 - val_accuracy: 0.7886\n",
            "Epoch 46/100\n",
            "16/16 [==============================] - 0s 13ms/step - loss: 0.4313 - accuracy: 0.7902 - val_loss: 0.4873 - val_accuracy: 0.7886\n",
            "Epoch 47/100\n",
            "16/16 [==============================] - 0s 11ms/step - loss: 0.4311 - accuracy: 0.7902 - val_loss: 0.4885 - val_accuracy: 0.7967\n",
            "Epoch 48/100\n",
            "16/16 [==============================] - 0s 11ms/step - loss: 0.4299 - accuracy: 0.7923 - val_loss: 0.4878 - val_accuracy: 0.7967\n",
            "Epoch 49/100\n",
            "16/16 [==============================] - 0s 12ms/step - loss: 0.4294 - accuracy: 0.7943 - val_loss: 0.4877 - val_accuracy: 0.7886\n",
            "Epoch 50/100\n",
            "16/16 [==============================] - 0s 9ms/step - loss: 0.4282 - accuracy: 0.7943 - val_loss: 0.4891 - val_accuracy: 0.7967\n",
            "Epoch 51/100\n",
            "16/16 [==============================] - 0s 8ms/step - loss: 0.4279 - accuracy: 0.7943 - val_loss: 0.4902 - val_accuracy: 0.7886\n",
            "Epoch 52/100\n",
            "16/16 [==============================] - 0s 11ms/step - loss: 0.4272 - accuracy: 0.7943 - val_loss: 0.4904 - val_accuracy: 0.7886\n",
            "Epoch 53/100\n",
            "16/16 [==============================] - 0s 13ms/step - loss: 0.4264 - accuracy: 0.7943 - val_loss: 0.4908 - val_accuracy: 0.7886\n",
            "Epoch 54/100\n",
            "16/16 [==============================] - 0s 11ms/step - loss: 0.4258 - accuracy: 0.7923 - val_loss: 0.4912 - val_accuracy: 0.7805\n",
            "Epoch 55/100\n",
            "16/16 [==============================] - 0s 12ms/step - loss: 0.4253 - accuracy: 0.7984 - val_loss: 0.4909 - val_accuracy: 0.7805\n",
            "Epoch 56/100\n",
            "16/16 [==============================] - 0s 8ms/step - loss: 0.4245 - accuracy: 0.7984 - val_loss: 0.4908 - val_accuracy: 0.7805\n",
            "Epoch 57/100\n",
            "16/16 [==============================] - 0s 8ms/step - loss: 0.4240 - accuracy: 0.7943 - val_loss: 0.4910 - val_accuracy: 0.7805\n",
            "Epoch 58/100\n",
            "16/16 [==============================] - 0s 10ms/step - loss: 0.4231 - accuracy: 0.7963 - val_loss: 0.4914 - val_accuracy: 0.7805\n",
            "Epoch 59/100\n",
            "16/16 [==============================] - 0s 9ms/step - loss: 0.4228 - accuracy: 0.8004 - val_loss: 0.4920 - val_accuracy: 0.7724\n",
            "Epoch 60/100\n",
            "16/16 [==============================] - 0s 9ms/step - loss: 0.4219 - accuracy: 0.7984 - val_loss: 0.4925 - val_accuracy: 0.7724\n",
            "Epoch 61/100\n",
            "16/16 [==============================] - 0s 7ms/step - loss: 0.4219 - accuracy: 0.8045 - val_loss: 0.4927 - val_accuracy: 0.7724\n",
            "Epoch 62/100\n",
            "16/16 [==============================] - 0s 8ms/step - loss: 0.4210 - accuracy: 0.8004 - val_loss: 0.4943 - val_accuracy: 0.7724\n",
            "Epoch 63/100\n",
            "16/16 [==============================] - 0s 6ms/step - loss: 0.4197 - accuracy: 0.8045 - val_loss: 0.4945 - val_accuracy: 0.7724\n",
            "Epoch 64/100\n",
            "16/16 [==============================] - 0s 7ms/step - loss: 0.4193 - accuracy: 0.8045 - val_loss: 0.4949 - val_accuracy: 0.7724\n",
            "Epoch 65/100\n",
            "16/16 [==============================] - 0s 7ms/step - loss: 0.4190 - accuracy: 0.7963 - val_loss: 0.4951 - val_accuracy: 0.7642\n",
            "Epoch 66/100\n",
            "16/16 [==============================] - 0s 8ms/step - loss: 0.4182 - accuracy: 0.7984 - val_loss: 0.4955 - val_accuracy: 0.7724\n",
            "Epoch 67/100\n",
            "16/16 [==============================] - 0s 9ms/step - loss: 0.4174 - accuracy: 0.7963 - val_loss: 0.4964 - val_accuracy: 0.7724\n",
            "Epoch 68/100\n",
            "16/16 [==============================] - 0s 7ms/step - loss: 0.4174 - accuracy: 0.7963 - val_loss: 0.4970 - val_accuracy: 0.7724\n",
            "Epoch 69/100\n",
            "16/16 [==============================] - 0s 8ms/step - loss: 0.4161 - accuracy: 0.7984 - val_loss: 0.4976 - val_accuracy: 0.7724\n",
            "Epoch 70/100\n",
            "16/16 [==============================] - 0s 7ms/step - loss: 0.4157 - accuracy: 0.7984 - val_loss: 0.4998 - val_accuracy: 0.7724\n",
            "Epoch 71/100\n",
            "16/16 [==============================] - 0s 10ms/step - loss: 0.4154 - accuracy: 0.8004 - val_loss: 0.4992 - val_accuracy: 0.7724\n",
            "Epoch 72/100\n",
            "16/16 [==============================] - 0s 10ms/step - loss: 0.4148 - accuracy: 0.8024 - val_loss: 0.5002 - val_accuracy: 0.7724\n",
            "Epoch 73/100\n",
            "16/16 [==============================] - 0s 13ms/step - loss: 0.4141 - accuracy: 0.8086 - val_loss: 0.5021 - val_accuracy: 0.7724\n",
            "Epoch 74/100\n",
            "16/16 [==============================] - 0s 11ms/step - loss: 0.4137 - accuracy: 0.8024 - val_loss: 0.5015 - val_accuracy: 0.7642\n",
            "Epoch 75/100\n",
            "16/16 [==============================] - 0s 14ms/step - loss: 0.4130 - accuracy: 0.8024 - val_loss: 0.5007 - val_accuracy: 0.7724\n",
            "Epoch 76/100\n",
            "16/16 [==============================] - 0s 12ms/step - loss: 0.4133 - accuracy: 0.8045 - val_loss: 0.5002 - val_accuracy: 0.7642\n",
            "Epoch 77/100\n",
            "16/16 [==============================] - 0s 11ms/step - loss: 0.4116 - accuracy: 0.8024 - val_loss: 0.5017 - val_accuracy: 0.7724\n",
            "Epoch 78/100\n",
            "16/16 [==============================] - 0s 18ms/step - loss: 0.4116 - accuracy: 0.8065 - val_loss: 0.5050 - val_accuracy: 0.7724\n",
            "Epoch 79/100\n",
            "16/16 [==============================] - 0s 17ms/step - loss: 0.4114 - accuracy: 0.8065 - val_loss: 0.5033 - val_accuracy: 0.7724\n",
            "Epoch 80/100\n",
            "16/16 [==============================] - 0s 12ms/step - loss: 0.4103 - accuracy: 0.8086 - val_loss: 0.5036 - val_accuracy: 0.7724\n",
            "Epoch 81/100\n",
            "16/16 [==============================] - 0s 14ms/step - loss: 0.4102 - accuracy: 0.8086 - val_loss: 0.5031 - val_accuracy: 0.7724\n",
            "Epoch 82/100\n",
            "16/16 [==============================] - 0s 14ms/step - loss: 0.4092 - accuracy: 0.8045 - val_loss: 0.5041 - val_accuracy: 0.7724\n",
            "Epoch 83/100\n",
            "16/16 [==============================] - 0s 16ms/step - loss: 0.4089 - accuracy: 0.8045 - val_loss: 0.5051 - val_accuracy: 0.7724\n",
            "Epoch 84/100\n",
            "16/16 [==============================] - 0s 11ms/step - loss: 0.4081 - accuracy: 0.8024 - val_loss: 0.5041 - val_accuracy: 0.7724\n",
            "Epoch 85/100\n",
            "16/16 [==============================] - 0s 11ms/step - loss: 0.4076 - accuracy: 0.8045 - val_loss: 0.5047 - val_accuracy: 0.7724\n",
            "Epoch 86/100\n",
            "16/16 [==============================] - 0s 15ms/step - loss: 0.4073 - accuracy: 0.8065 - val_loss: 0.5062 - val_accuracy: 0.7724\n",
            "Epoch 87/100\n",
            "16/16 [==============================] - 0s 18ms/step - loss: 0.4067 - accuracy: 0.8065 - val_loss: 0.5068 - val_accuracy: 0.7724\n",
            "Epoch 88/100\n",
            "16/16 [==============================] - 0s 16ms/step - loss: 0.4063 - accuracy: 0.8065 - val_loss: 0.5080 - val_accuracy: 0.7724\n",
            "Epoch 89/100\n",
            "16/16 [==============================] - 0s 11ms/step - loss: 0.4056 - accuracy: 0.8086 - val_loss: 0.5079 - val_accuracy: 0.7724\n",
            "Epoch 90/100\n",
            "16/16 [==============================] - 0s 15ms/step - loss: 0.4052 - accuracy: 0.8065 - val_loss: 0.5081 - val_accuracy: 0.7724\n",
            "Epoch 91/100\n",
            "16/16 [==============================] - 0s 20ms/step - loss: 0.4052 - accuracy: 0.8106 - val_loss: 0.5089 - val_accuracy: 0.7724\n",
            "Epoch 92/100\n",
            "16/16 [==============================] - 0s 14ms/step - loss: 0.4047 - accuracy: 0.8106 - val_loss: 0.5094 - val_accuracy: 0.7724\n",
            "Epoch 93/100\n",
            "16/16 [==============================] - 0s 16ms/step - loss: 0.4044 - accuracy: 0.8106 - val_loss: 0.5095 - val_accuracy: 0.7724\n",
            "Epoch 94/100\n",
            "16/16 [==============================] - 0s 14ms/step - loss: 0.4037 - accuracy: 0.8106 - val_loss: 0.5108 - val_accuracy: 0.7724\n",
            "Epoch 95/100\n",
            "16/16 [==============================] - 0s 10ms/step - loss: 0.4031 - accuracy: 0.8126 - val_loss: 0.5098 - val_accuracy: 0.7724\n",
            "Epoch 96/100\n",
            "16/16 [==============================] - 0s 11ms/step - loss: 0.4024 - accuracy: 0.8126 - val_loss: 0.5092 - val_accuracy: 0.7724\n",
            "Epoch 97/100\n",
            "16/16 [==============================] - 0s 11ms/step - loss: 0.4024 - accuracy: 0.8106 - val_loss: 0.5096 - val_accuracy: 0.7724\n",
            "Epoch 98/100\n",
            "16/16 [==============================] - 0s 13ms/step - loss: 0.4018 - accuracy: 0.8126 - val_loss: 0.5117 - val_accuracy: 0.7724\n",
            "Epoch 99/100\n",
            "16/16 [==============================] - 0s 12ms/step - loss: 0.4009 - accuracy: 0.8106 - val_loss: 0.5117 - val_accuracy: 0.7724\n",
            "Epoch 100/100\n",
            "16/16 [==============================] - 0s 13ms/step - loss: 0.4010 - accuracy: 0.8147 - val_loss: 0.5129 - val_accuracy: 0.7724\n"
          ]
        },
        {
          "output_type": "execute_result",
          "data": {
            "text/plain": [
              "<keras.src.callbacks.History at 0x7eb65af703a0>"
            ]
          },
          "metadata": {},
          "execution_count": 29
        }
      ]
    },
    {
      "cell_type": "code",
      "source": [
        "model.evaluate(x_test,y_test)"
      ],
      "metadata": {
        "colab": {
          "base_uri": "https://localhost:8080/"
        },
        "id": "qtF4kil66EGN",
        "outputId": "c7056399-daa5-4efd-af9d-e5dbeba81f7a"
      },
      "execution_count": 30,
      "outputs": [
        {
          "output_type": "stream",
          "name": "stdout",
          "text": [
            "5/5 [==============================] - 0s 12ms/step - loss: 0.4532 - accuracy: 0.8117\n"
          ]
        },
        {
          "output_type": "execute_result",
          "data": {
            "text/plain": [
              "[0.45317158102989197, 0.8116883039474487]"
            ]
          },
          "metadata": {},
          "execution_count": 30
        }
      ]
    },
    {
      "cell_type": "code",
      "source": [
        "!pip install  keras-tuner # Install the keras-tuner package\n",
        "import kerastuner as kt # Now import the module in the same cell"
      ],
      "metadata": {
        "colab": {
          "base_uri": "https://localhost:8080/"
        },
        "id": "hiPmegY86pDx",
        "outputId": "75310f3e-ecab-4be3-f6d1-4837ae159648"
      },
      "execution_count": 31,
      "outputs": [
        {
          "output_type": "stream",
          "name": "stdout",
          "text": [
            "Requirement already satisfied: keras-tuner in /usr/local/lib/python3.10/dist-packages (1.4.7)\n",
            "Requirement already satisfied: keras in /usr/local/lib/python3.10/dist-packages (from keras-tuner) (2.15.0)\n",
            "Requirement already satisfied: packaging in /usr/local/lib/python3.10/dist-packages (from keras-tuner) (24.1)\n",
            "Requirement already satisfied: requests in /usr/local/lib/python3.10/dist-packages (from keras-tuner) (2.31.0)\n",
            "Requirement already satisfied: kt-legacy in /usr/local/lib/python3.10/dist-packages (from keras-tuner) (1.0.5)\n",
            "Requirement already satisfied: charset-normalizer<4,>=2 in /usr/local/lib/python3.10/dist-packages (from requests->keras-tuner) (3.3.2)\n",
            "Requirement already satisfied: idna<4,>=2.5 in /usr/local/lib/python3.10/dist-packages (from requests->keras-tuner) (3.7)\n",
            "Requirement already satisfied: urllib3<3,>=1.21.1 in /usr/local/lib/python3.10/dist-packages (from requests->keras-tuner) (2.0.7)\n",
            "Requirement already satisfied: certifi>=2017.4.17 in /usr/local/lib/python3.10/dist-packages (from requests->keras-tuner) (2024.7.4)\n"
          ]
        }
      ]
    },
    {
      "cell_type": "code",
      "source": [
        "def  build_model(hp):\n",
        "  model=Sequential()\n",
        "  model.add(Dense(32,activation='relu',input_dim=8))\n",
        "  model.add(Dense(1,activation='sigmoid'))\n",
        "  model.compile(optimizer=hp.Choice('optimizer',values=['adam','sgd']),loss='binary_crossentropy',metrics=['accuracy'])\n",
        "  return model"
      ],
      "metadata": {
        "id": "V08Y3haL8qyb"
      },
      "execution_count": 32,
      "outputs": []
    },
    {
      "cell_type": "code",
      "source": [
        "tuner=kt.RandomSearch(build_model,objective='val_accuracy',max_trials=5,directory='project',project_name='diabetes')"
      ],
      "metadata": {
        "id": "bBpKZN_I_Kgs"
      },
      "execution_count": 33,
      "outputs": []
    },
    {
      "cell_type": "code",
      "source": [
        "tuner.search(x_train,y_train,epochs=5,validation_data=(x_test,y_test))"
      ],
      "metadata": {
        "id": "WVj2WcZ1_i8r",
        "outputId": "11253685-da4b-44fd-d013-8bc7b3c41d15",
        "colab": {
          "base_uri": "https://localhost:8080/"
        }
      },
      "execution_count": 34,
      "outputs": [
        {
          "output_type": "stream",
          "name": "stdout",
          "text": [
            "Trial 2 Complete [00h 00m 03s]\n",
            "val_accuracy: 0.7402597665786743\n",
            "\n",
            "Best val_accuracy So Far: 0.7402597665786743\n",
            "Total elapsed time: 00h 00m 07s\n"
          ]
        }
      ]
    },
    {
      "cell_type": "code",
      "source": [
        "tuner.get_best_hyperparameters()[0].values"
      ],
      "metadata": {
        "id": "pwLcIPzN_zbl",
        "outputId": "2d1a8d04-1f79-4f6b-c088-f6828a895fbf",
        "colab": {
          "base_uri": "https://localhost:8080/"
        }
      },
      "execution_count": 35,
      "outputs": [
        {
          "output_type": "execute_result",
          "data": {
            "text/plain": [
              "{'optimizer': 'adam'}"
            ]
          },
          "metadata": {},
          "execution_count": 35
        }
      ]
    },
    {
      "cell_type": "code",
      "source": [
        "model=tuner.get_best_models(num_models=1)[0]"
      ],
      "metadata": {
        "id": "tkLphRBjAKuk"
      },
      "execution_count": 36,
      "outputs": []
    },
    {
      "cell_type": "code",
      "source": [
        "model.fit(x_train,y_train,epochs=100,initial_epoch=6,batch_size=32,validation_data=(x_test,y_test))"
      ],
      "metadata": {
        "id": "HVudx6dmAVY1",
        "outputId": "27dd58fb-3e3e-49da-cf7e-4ffeacf8e40e",
        "colab": {
          "base_uri": "https://localhost:8080/"
        }
      },
      "execution_count": 37,
      "outputs": [
        {
          "output_type": "stream",
          "name": "stdout",
          "text": [
            "Epoch 7/100\n",
            "20/20 [==============================] - 1s 18ms/step - loss: 0.5745 - accuracy: 0.6873 - val_loss: 0.5252 - val_accuracy: 0.7338\n",
            "Epoch 8/100\n",
            "20/20 [==============================] - 0s 7ms/step - loss: 0.5583 - accuracy: 0.6987 - val_loss: 0.5111 - val_accuracy: 0.7532\n",
            "Epoch 9/100\n",
            "20/20 [==============================] - 0s 6ms/step - loss: 0.5450 - accuracy: 0.7117 - val_loss: 0.4983 - val_accuracy: 0.7727\n",
            "Epoch 10/100\n",
            "20/20 [==============================] - 0s 7ms/step - loss: 0.5334 - accuracy: 0.7150 - val_loss: 0.4864 - val_accuracy: 0.7662\n",
            "Epoch 11/100\n",
            "20/20 [==============================] - 0s 7ms/step - loss: 0.5223 - accuracy: 0.7313 - val_loss: 0.4766 - val_accuracy: 0.7662\n",
            "Epoch 12/100\n",
            "20/20 [==============================] - 0s 6ms/step - loss: 0.5135 - accuracy: 0.7329 - val_loss: 0.4692 - val_accuracy: 0.7662\n",
            "Epoch 13/100\n",
            "20/20 [==============================] - 0s 6ms/step - loss: 0.5062 - accuracy: 0.7378 - val_loss: 0.4621 - val_accuracy: 0.7857\n",
            "Epoch 14/100\n",
            "20/20 [==============================] - 0s 7ms/step - loss: 0.4995 - accuracy: 0.7476 - val_loss: 0.4555 - val_accuracy: 0.7922\n",
            "Epoch 15/100\n",
            "20/20 [==============================] - 0s 7ms/step - loss: 0.4946 - accuracy: 0.7557 - val_loss: 0.4522 - val_accuracy: 0.8052\n",
            "Epoch 16/100\n",
            "20/20 [==============================] - 0s 8ms/step - loss: 0.4882 - accuracy: 0.7638 - val_loss: 0.4468 - val_accuracy: 0.8052\n",
            "Epoch 17/100\n",
            "20/20 [==============================] - 0s 5ms/step - loss: 0.4841 - accuracy: 0.7671 - val_loss: 0.4450 - val_accuracy: 0.8052\n",
            "Epoch 18/100\n",
            "20/20 [==============================] - 0s 6ms/step - loss: 0.4803 - accuracy: 0.7638 - val_loss: 0.4413 - val_accuracy: 0.8117\n",
            "Epoch 19/100\n",
            "20/20 [==============================] - 0s 7ms/step - loss: 0.4762 - accuracy: 0.7720 - val_loss: 0.4381 - val_accuracy: 0.8052\n",
            "Epoch 20/100\n",
            "20/20 [==============================] - 0s 6ms/step - loss: 0.4732 - accuracy: 0.7769 - val_loss: 0.4370 - val_accuracy: 0.8117\n",
            "Epoch 21/100\n",
            "20/20 [==============================] - 0s 7ms/step - loss: 0.4711 - accuracy: 0.7769 - val_loss: 0.4355 - val_accuracy: 0.8117\n",
            "Epoch 22/100\n",
            "20/20 [==============================] - 0s 7ms/step - loss: 0.4685 - accuracy: 0.7752 - val_loss: 0.4345 - val_accuracy: 0.7987\n",
            "Epoch 23/100\n",
            "20/20 [==============================] - 0s 6ms/step - loss: 0.4666 - accuracy: 0.7769 - val_loss: 0.4333 - val_accuracy: 0.8052\n",
            "Epoch 24/100\n",
            "20/20 [==============================] - 0s 6ms/step - loss: 0.4648 - accuracy: 0.7769 - val_loss: 0.4338 - val_accuracy: 0.7987\n",
            "Epoch 25/100\n",
            "20/20 [==============================] - 0s 5ms/step - loss: 0.4634 - accuracy: 0.7769 - val_loss: 0.4333 - val_accuracy: 0.7987\n",
            "Epoch 26/100\n",
            "20/20 [==============================] - 0s 9ms/step - loss: 0.4619 - accuracy: 0.7769 - val_loss: 0.4333 - val_accuracy: 0.7857\n",
            "Epoch 27/100\n",
            "20/20 [==============================] - 0s 6ms/step - loss: 0.4600 - accuracy: 0.7801 - val_loss: 0.4336 - val_accuracy: 0.7922\n",
            "Epoch 28/100\n",
            "20/20 [==============================] - 0s 8ms/step - loss: 0.4591 - accuracy: 0.7801 - val_loss: 0.4327 - val_accuracy: 0.7922\n",
            "Epoch 29/100\n",
            "20/20 [==============================] - 0s 7ms/step - loss: 0.4574 - accuracy: 0.7834 - val_loss: 0.4319 - val_accuracy: 0.7987\n",
            "Epoch 30/100\n",
            "20/20 [==============================] - 0s 6ms/step - loss: 0.4563 - accuracy: 0.7834 - val_loss: 0.4318 - val_accuracy: 0.7857\n",
            "Epoch 31/100\n",
            "20/20 [==============================] - 0s 6ms/step - loss: 0.4556 - accuracy: 0.7801 - val_loss: 0.4318 - val_accuracy: 0.7792\n",
            "Epoch 32/100\n",
            "20/20 [==============================] - 0s 6ms/step - loss: 0.4545 - accuracy: 0.7785 - val_loss: 0.4323 - val_accuracy: 0.7857\n",
            "Epoch 33/100\n",
            "20/20 [==============================] - 0s 6ms/step - loss: 0.4535 - accuracy: 0.7801 - val_loss: 0.4334 - val_accuracy: 0.7792\n",
            "Epoch 34/100\n",
            "20/20 [==============================] - 0s 6ms/step - loss: 0.4522 - accuracy: 0.7801 - val_loss: 0.4330 - val_accuracy: 0.7792\n",
            "Epoch 35/100\n",
            "20/20 [==============================] - 0s 7ms/step - loss: 0.4515 - accuracy: 0.7818 - val_loss: 0.4344 - val_accuracy: 0.7792\n",
            "Epoch 36/100\n",
            "20/20 [==============================] - 0s 8ms/step - loss: 0.4507 - accuracy: 0.7818 - val_loss: 0.4346 - val_accuracy: 0.7857\n",
            "Epoch 37/100\n",
            "20/20 [==============================] - 0s 8ms/step - loss: 0.4497 - accuracy: 0.7801 - val_loss: 0.4347 - val_accuracy: 0.7857\n",
            "Epoch 38/100\n",
            "20/20 [==============================] - 0s 7ms/step - loss: 0.4493 - accuracy: 0.7866 - val_loss: 0.4351 - val_accuracy: 0.7987\n",
            "Epoch 39/100\n",
            "20/20 [==============================] - 0s 7ms/step - loss: 0.4481 - accuracy: 0.7883 - val_loss: 0.4357 - val_accuracy: 0.7857\n",
            "Epoch 40/100\n",
            "20/20 [==============================] - 0s 7ms/step - loss: 0.4477 - accuracy: 0.7866 - val_loss: 0.4355 - val_accuracy: 0.7922\n",
            "Epoch 41/100\n",
            "20/20 [==============================] - 0s 7ms/step - loss: 0.4469 - accuracy: 0.7883 - val_loss: 0.4369 - val_accuracy: 0.7922\n",
            "Epoch 42/100\n",
            "20/20 [==============================] - 0s 8ms/step - loss: 0.4467 - accuracy: 0.7850 - val_loss: 0.4378 - val_accuracy: 0.7922\n",
            "Epoch 43/100\n",
            "20/20 [==============================] - 0s 7ms/step - loss: 0.4457 - accuracy: 0.7866 - val_loss: 0.4381 - val_accuracy: 0.7922\n",
            "Epoch 44/100\n",
            "20/20 [==============================] - 0s 6ms/step - loss: 0.4449 - accuracy: 0.7866 - val_loss: 0.4375 - val_accuracy: 0.7922\n",
            "Epoch 45/100\n",
            "20/20 [==============================] - 0s 6ms/step - loss: 0.4446 - accuracy: 0.7899 - val_loss: 0.4405 - val_accuracy: 0.7987\n",
            "Epoch 46/100\n",
            "20/20 [==============================] - 0s 6ms/step - loss: 0.4435 - accuracy: 0.7883 - val_loss: 0.4397 - val_accuracy: 0.7987\n",
            "Epoch 47/100\n",
            "20/20 [==============================] - 0s 7ms/step - loss: 0.4430 - accuracy: 0.7899 - val_loss: 0.4397 - val_accuracy: 0.7987\n",
            "Epoch 48/100\n",
            "20/20 [==============================] - 0s 7ms/step - loss: 0.4420 - accuracy: 0.7915 - val_loss: 0.4389 - val_accuracy: 0.7987\n",
            "Epoch 49/100\n",
            "20/20 [==============================] - 0s 8ms/step - loss: 0.4421 - accuracy: 0.7932 - val_loss: 0.4399 - val_accuracy: 0.7987\n",
            "Epoch 50/100\n",
            "20/20 [==============================] - 0s 7ms/step - loss: 0.4413 - accuracy: 0.7948 - val_loss: 0.4407 - val_accuracy: 0.7987\n",
            "Epoch 51/100\n",
            "20/20 [==============================] - 0s 6ms/step - loss: 0.4407 - accuracy: 0.7899 - val_loss: 0.4412 - val_accuracy: 0.7922\n",
            "Epoch 52/100\n",
            "20/20 [==============================] - 0s 6ms/step - loss: 0.4401 - accuracy: 0.7899 - val_loss: 0.4395 - val_accuracy: 0.7987\n",
            "Epoch 53/100\n",
            "20/20 [==============================] - 0s 6ms/step - loss: 0.4404 - accuracy: 0.7866 - val_loss: 0.4399 - val_accuracy: 0.8117\n",
            "Epoch 54/100\n",
            "20/20 [==============================] - 0s 5ms/step - loss: 0.4394 - accuracy: 0.7866 - val_loss: 0.4413 - val_accuracy: 0.7987\n",
            "Epoch 55/100\n",
            "20/20 [==============================] - 0s 7ms/step - loss: 0.4385 - accuracy: 0.7883 - val_loss: 0.4405 - val_accuracy: 0.7987\n",
            "Epoch 56/100\n",
            "20/20 [==============================] - 0s 8ms/step - loss: 0.4381 - accuracy: 0.7883 - val_loss: 0.4414 - val_accuracy: 0.8117\n",
            "Epoch 57/100\n",
            "20/20 [==============================] - 0s 8ms/step - loss: 0.4383 - accuracy: 0.7883 - val_loss: 0.4433 - val_accuracy: 0.8052\n",
            "Epoch 58/100\n",
            "20/20 [==============================] - 0s 6ms/step - loss: 0.4373 - accuracy: 0.7883 - val_loss: 0.4443 - val_accuracy: 0.7922\n",
            "Epoch 59/100\n",
            "20/20 [==============================] - 0s 7ms/step - loss: 0.4370 - accuracy: 0.7899 - val_loss: 0.4446 - val_accuracy: 0.7987\n",
            "Epoch 60/100\n",
            "20/20 [==============================] - 0s 6ms/step - loss: 0.4366 - accuracy: 0.7899 - val_loss: 0.4462 - val_accuracy: 0.7987\n",
            "Epoch 61/100\n",
            "20/20 [==============================] - 0s 8ms/step - loss: 0.4356 - accuracy: 0.7915 - val_loss: 0.4460 - val_accuracy: 0.7987\n",
            "Epoch 62/100\n",
            "20/20 [==============================] - 0s 16ms/step - loss: 0.4350 - accuracy: 0.7915 - val_loss: 0.4466 - val_accuracy: 0.7987\n",
            "Epoch 63/100\n",
            "20/20 [==============================] - 0s 13ms/step - loss: 0.4355 - accuracy: 0.7883 - val_loss: 0.4480 - val_accuracy: 0.7987\n",
            "Epoch 64/100\n",
            "20/20 [==============================] - 0s 13ms/step - loss: 0.4347 - accuracy: 0.7899 - val_loss: 0.4489 - val_accuracy: 0.7987\n",
            "Epoch 65/100\n",
            "20/20 [==============================] - 0s 13ms/step - loss: 0.4342 - accuracy: 0.7899 - val_loss: 0.4491 - val_accuracy: 0.7987\n",
            "Epoch 66/100\n",
            "20/20 [==============================] - 0s 11ms/step - loss: 0.4333 - accuracy: 0.7932 - val_loss: 0.4487 - val_accuracy: 0.7987\n",
            "Epoch 67/100\n",
            "20/20 [==============================] - 0s 11ms/step - loss: 0.4329 - accuracy: 0.7932 - val_loss: 0.4480 - val_accuracy: 0.7987\n",
            "Epoch 68/100\n",
            "20/20 [==============================] - 0s 9ms/step - loss: 0.4326 - accuracy: 0.7915 - val_loss: 0.4477 - val_accuracy: 0.7987\n",
            "Epoch 69/100\n",
            "20/20 [==============================] - 0s 11ms/step - loss: 0.4326 - accuracy: 0.7932 - val_loss: 0.4493 - val_accuracy: 0.7987\n",
            "Epoch 70/100\n",
            "20/20 [==============================] - 0s 11ms/step - loss: 0.4318 - accuracy: 0.7915 - val_loss: 0.4486 - val_accuracy: 0.8052\n",
            "Epoch 71/100\n",
            "20/20 [==============================] - 0s 12ms/step - loss: 0.4309 - accuracy: 0.7915 - val_loss: 0.4499 - val_accuracy: 0.8052\n",
            "Epoch 72/100\n",
            "20/20 [==============================] - 0s 12ms/step - loss: 0.4311 - accuracy: 0.7948 - val_loss: 0.4509 - val_accuracy: 0.8052\n",
            "Epoch 73/100\n",
            "20/20 [==============================] - 0s 14ms/step - loss: 0.4307 - accuracy: 0.7915 - val_loss: 0.4506 - val_accuracy: 0.8052\n",
            "Epoch 74/100\n",
            "20/20 [==============================] - 0s 16ms/step - loss: 0.4300 - accuracy: 0.7932 - val_loss: 0.4532 - val_accuracy: 0.8117\n",
            "Epoch 75/100\n",
            "20/20 [==============================] - 0s 18ms/step - loss: 0.4297 - accuracy: 0.7964 - val_loss: 0.4523 - val_accuracy: 0.8052\n",
            "Epoch 76/100\n",
            "20/20 [==============================] - 0s 13ms/step - loss: 0.4294 - accuracy: 0.7915 - val_loss: 0.4534 - val_accuracy: 0.8117\n",
            "Epoch 77/100\n",
            "20/20 [==============================] - 0s 14ms/step - loss: 0.4289 - accuracy: 0.7932 - val_loss: 0.4524 - val_accuracy: 0.8117\n",
            "Epoch 78/100\n",
            "20/20 [==============================] - 0s 11ms/step - loss: 0.4288 - accuracy: 0.7980 - val_loss: 0.4523 - val_accuracy: 0.8052\n",
            "Epoch 79/100\n",
            "20/20 [==============================] - 0s 12ms/step - loss: 0.4281 - accuracy: 0.7948 - val_loss: 0.4536 - val_accuracy: 0.8117\n",
            "Epoch 80/100\n",
            "20/20 [==============================] - 0s 14ms/step - loss: 0.4276 - accuracy: 0.7948 - val_loss: 0.4522 - val_accuracy: 0.8182\n",
            "Epoch 81/100\n",
            "20/20 [==============================] - 0s 16ms/step - loss: 0.4273 - accuracy: 0.7932 - val_loss: 0.4513 - val_accuracy: 0.8182\n",
            "Epoch 82/100\n",
            "20/20 [==============================] - 0s 15ms/step - loss: 0.4269 - accuracy: 0.7964 - val_loss: 0.4507 - val_accuracy: 0.8117\n",
            "Epoch 83/100\n",
            "20/20 [==============================] - 0s 12ms/step - loss: 0.4263 - accuracy: 0.7997 - val_loss: 0.4508 - val_accuracy: 0.8117\n",
            "Epoch 84/100\n",
            "20/20 [==============================] - 0s 14ms/step - loss: 0.4263 - accuracy: 0.7964 - val_loss: 0.4518 - val_accuracy: 0.8117\n",
            "Epoch 85/100\n",
            "20/20 [==============================] - 0s 15ms/step - loss: 0.4259 - accuracy: 0.7948 - val_loss: 0.4529 - val_accuracy: 0.8182\n",
            "Epoch 86/100\n",
            "20/20 [==============================] - 0s 11ms/step - loss: 0.4252 - accuracy: 0.7997 - val_loss: 0.4543 - val_accuracy: 0.8117\n",
            "Epoch 87/100\n",
            "20/20 [==============================] - 0s 15ms/step - loss: 0.4252 - accuracy: 0.8046 - val_loss: 0.4565 - val_accuracy: 0.8117\n",
            "Epoch 88/100\n",
            "20/20 [==============================] - 0s 14ms/step - loss: 0.4244 - accuracy: 0.8062 - val_loss: 0.4554 - val_accuracy: 0.8117\n",
            "Epoch 89/100\n",
            "20/20 [==============================] - 0s 13ms/step - loss: 0.4252 - accuracy: 0.7980 - val_loss: 0.4533 - val_accuracy: 0.8117\n",
            "Epoch 90/100\n",
            "20/20 [==============================] - 0s 12ms/step - loss: 0.4242 - accuracy: 0.7980 - val_loss: 0.4544 - val_accuracy: 0.8117\n",
            "Epoch 91/100\n",
            "20/20 [==============================] - 0s 13ms/step - loss: 0.4237 - accuracy: 0.7980 - val_loss: 0.4545 - val_accuracy: 0.8117\n",
            "Epoch 92/100\n",
            "20/20 [==============================] - 0s 14ms/step - loss: 0.4233 - accuracy: 0.8013 - val_loss: 0.4543 - val_accuracy: 0.8117\n",
            "Epoch 93/100\n",
            "20/20 [==============================] - 0s 13ms/step - loss: 0.4227 - accuracy: 0.8062 - val_loss: 0.4546 - val_accuracy: 0.8117\n",
            "Epoch 94/100\n",
            "20/20 [==============================] - 0s 10ms/step - loss: 0.4229 - accuracy: 0.7980 - val_loss: 0.4554 - val_accuracy: 0.8117\n",
            "Epoch 95/100\n",
            "20/20 [==============================] - 0s 7ms/step - loss: 0.4221 - accuracy: 0.8029 - val_loss: 0.4556 - val_accuracy: 0.8052\n",
            "Epoch 96/100\n",
            "20/20 [==============================] - 0s 9ms/step - loss: 0.4227 - accuracy: 0.7964 - val_loss: 0.4552 - val_accuracy: 0.8117\n",
            "Epoch 97/100\n",
            "20/20 [==============================] - 0s 6ms/step - loss: 0.4222 - accuracy: 0.8029 - val_loss: 0.4558 - val_accuracy: 0.8117\n",
            "Epoch 98/100\n",
            "20/20 [==============================] - 0s 7ms/step - loss: 0.4211 - accuracy: 0.7997 - val_loss: 0.4530 - val_accuracy: 0.8117\n",
            "Epoch 99/100\n",
            "20/20 [==============================] - 0s 6ms/step - loss: 0.4214 - accuracy: 0.8062 - val_loss: 0.4543 - val_accuracy: 0.8052\n",
            "Epoch 100/100\n",
            "20/20 [==============================] - 0s 6ms/step - loss: 0.4211 - accuracy: 0.7997 - val_loss: 0.4576 - val_accuracy: 0.8052\n"
          ]
        },
        {
          "output_type": "execute_result",
          "data": {
            "text/plain": [
              "<keras.src.callbacks.History at 0x7eb66377da80>"
            ]
          },
          "metadata": {},
          "execution_count": 37
        }
      ]
    },
    {
      "cell_type": "code",
      "source": [
        "def build_model1(hp):\n",
        "  model=Sequential()\n",
        "  units=hp.Int('units',min_value=32,max_value=128)\n",
        "  model.add(Dense(units,activation='relu',input_dim=8))\n",
        "  model.add(Dense(1,activation='sigmoid'))\n",
        "  model.compile(optimizer='rmsprop',loss='binary_crossentropy',metrics=['accuracy'])\n",
        "  return model"
      ],
      "metadata": {
        "id": "JkHJ-opsAoXZ"
      },
      "execution_count": 52,
      "outputs": []
    },
    {
      "cell_type": "code",
      "source": [
        "tuner1=kt.RandomSearch(build_model1,objective='val_accuracy',max_trials=5,directory='project',project_name='d')"
      ],
      "metadata": {
        "id": "Q6ahsh09BXEm"
      },
      "execution_count": 54,
      "outputs": []
    },
    {
      "cell_type": "code",
      "source": [
        "tuner1.search(x_train,y_train,epochs=5,validation_data=(x_test,y_test))"
      ],
      "metadata": {
        "id": "CevatoI5Bn1E",
        "outputId": "fe145420-a805-4291-bf66-0683c2d5b85a",
        "colab": {
          "base_uri": "https://localhost:8080/"
        }
      },
      "execution_count": 55,
      "outputs": [
        {
          "output_type": "stream",
          "name": "stdout",
          "text": [
            "Trial 5 Complete [00h 00m 03s]\n",
            "val_accuracy: 0.8376623392105103\n",
            "\n",
            "Best val_accuracy So Far: 0.8376623392105103\n",
            "Total elapsed time: 00h 00m 12s\n"
          ]
        }
      ]
    },
    {
      "cell_type": "code",
      "source": [
        "tuner1.get_best_hyperparameters()[0].values"
      ],
      "metadata": {
        "id": "nNAD0Sx-CEGF",
        "outputId": "16122d0a-41c0-45bb-abc3-bc2a6d31faff",
        "colab": {
          "base_uri": "https://localhost:8080/"
        }
      },
      "execution_count": 56,
      "outputs": [
        {
          "output_type": "execute_result",
          "data": {
            "text/plain": [
              "{'units': 91}"
            ]
          },
          "metadata": {},
          "execution_count": 56
        }
      ]
    },
    {
      "cell_type": "code",
      "source": [
        "def build_model2(hp):\n",
        "  model=Sequential()\n",
        "\n",
        "  model.add(Dense(91,activation='relu',input_dim=8))\n",
        "\n",
        "  for i in range(hp.Int('num_layers',min_value=1,max_value=10)):\n",
        "    model.add(Dense(91,activation='relu'))\n",
        "  model.add(Dense(1,activation='sigmoid'))\n",
        "  model.compile(optimizer='rmsprop',loss='binary_crossentropy',metrics=['accuracy'])\n",
        "  return model"
      ],
      "metadata": {
        "id": "r2vSOZXxCPzI"
      },
      "execution_count": 57,
      "outputs": []
    },
    {
      "cell_type": "code",
      "source": [
        "tuner2=kt.RandomSearch(build_model2,objective='val_accuracy',max_trials=5,directory='project',project_name='lilo')"
      ],
      "metadata": {
        "id": "sn4GqzmSEswX"
      },
      "execution_count": 58,
      "outputs": []
    },
    {
      "cell_type": "code",
      "source": [
        "tuner2.search(x_train,y_train,epochs=5,validation_data=(x_test,y_test))"
      ],
      "metadata": {
        "id": "wWgwBPijE6Xf",
        "outputId": "cb9b5738-9ae2-4405-df9e-d288f3c65306",
        "colab": {
          "base_uri": "https://localhost:8080/"
        }
      },
      "execution_count": 59,
      "outputs": [
        {
          "output_type": "stream",
          "name": "stdout",
          "text": [
            "Trial 5 Complete [00h 00m 04s]\n",
            "val_accuracy: 0.798701286315918\n",
            "\n",
            "Best val_accuracy So Far: 0.8116883039474487\n",
            "Total elapsed time: 00h 00m 20s\n"
          ]
        }
      ]
    },
    {
      "cell_type": "code",
      "source": [
        "tuner2.get_best_hyperparameters()[0].values"
      ],
      "metadata": {
        "id": "uzO-oCqTFAEs",
        "outputId": "26a2c5ef-4acf-4d03-8bd5-328271bddc99",
        "colab": {
          "base_uri": "https://localhost:8080/"
        }
      },
      "execution_count": 60,
      "outputs": [
        {
          "output_type": "execute_result",
          "data": {
            "text/plain": [
              "{'num_layers': 2}"
            ]
          },
          "metadata": {},
          "execution_count": 60
        }
      ]
    },
    {
      "cell_type": "code",
      "source": [
        "model=tuner2.get_best_models(num_models=1)[0]"
      ],
      "metadata": {
        "id": "SdT_D-GrFILg"
      },
      "execution_count": 61,
      "outputs": []
    },
    {
      "cell_type": "code",
      "source": [
        "model.fit(x_train,y_train,epochs=100,initial_epoch=6,batch_size=32,validation_data=(x_test,y_test))"
      ],
      "metadata": {
        "id": "mnTuXePiFb2d",
        "outputId": "1dd8d56d-5af2-49ff-9382-00510d29260e",
        "colab": {
          "base_uri": "https://localhost:8080/"
        }
      },
      "execution_count": 62,
      "outputs": [
        {
          "output_type": "stream",
          "name": "stdout",
          "text": [
            "Epoch 7/100\n",
            "20/20 [==============================] - 2s 21ms/step - loss: 0.4555 - accuracy: 0.7704 - val_loss: 0.4563 - val_accuracy: 0.8052\n",
            "Epoch 8/100\n",
            "20/20 [==============================] - 0s 6ms/step - loss: 0.4493 - accuracy: 0.7834 - val_loss: 0.4569 - val_accuracy: 0.7987\n",
            "Epoch 9/100\n",
            "20/20 [==============================] - 0s 6ms/step - loss: 0.4382 - accuracy: 0.7932 - val_loss: 0.4499 - val_accuracy: 0.8117\n",
            "Epoch 10/100\n",
            "20/20 [==============================] - 0s 6ms/step - loss: 0.4310 - accuracy: 0.7932 - val_loss: 0.4613 - val_accuracy: 0.7792\n",
            "Epoch 11/100\n",
            "20/20 [==============================] - 0s 6ms/step - loss: 0.4259 - accuracy: 0.8062 - val_loss: 0.4586 - val_accuracy: 0.7987\n",
            "Epoch 12/100\n",
            "20/20 [==============================] - 0s 6ms/step - loss: 0.4185 - accuracy: 0.7932 - val_loss: 0.4833 - val_accuracy: 0.7857\n",
            "Epoch 13/100\n",
            "20/20 [==============================] - 0s 8ms/step - loss: 0.4124 - accuracy: 0.8094 - val_loss: 0.4748 - val_accuracy: 0.7727\n",
            "Epoch 14/100\n",
            "20/20 [==============================] - 0s 8ms/step - loss: 0.4081 - accuracy: 0.8127 - val_loss: 0.4669 - val_accuracy: 0.7922\n",
            "Epoch 15/100\n",
            "20/20 [==============================] - 0s 7ms/step - loss: 0.4012 - accuracy: 0.8094 - val_loss: 0.4788 - val_accuracy: 0.7922\n",
            "Epoch 16/100\n",
            "20/20 [==============================] - 0s 7ms/step - loss: 0.3953 - accuracy: 0.8192 - val_loss: 0.5255 - val_accuracy: 0.7727\n",
            "Epoch 17/100\n",
            "20/20 [==============================] - 0s 6ms/step - loss: 0.3970 - accuracy: 0.8176 - val_loss: 0.4741 - val_accuracy: 0.7857\n",
            "Epoch 18/100\n",
            "20/20 [==============================] - 0s 6ms/step - loss: 0.3838 - accuracy: 0.8355 - val_loss: 0.4891 - val_accuracy: 0.7727\n",
            "Epoch 19/100\n",
            "20/20 [==============================] - 0s 6ms/step - loss: 0.3779 - accuracy: 0.8339 - val_loss: 0.4993 - val_accuracy: 0.7792\n",
            "Epoch 20/100\n",
            "20/20 [==============================] - 0s 7ms/step - loss: 0.3744 - accuracy: 0.8322 - val_loss: 0.4913 - val_accuracy: 0.7857\n",
            "Epoch 21/100\n",
            "20/20 [==============================] - 0s 9ms/step - loss: 0.3675 - accuracy: 0.8339 - val_loss: 0.5203 - val_accuracy: 0.7727\n",
            "Epoch 22/100\n",
            "20/20 [==============================] - 0s 7ms/step - loss: 0.3647 - accuracy: 0.8404 - val_loss: 0.4946 - val_accuracy: 0.7922\n",
            "Epoch 23/100\n",
            "20/20 [==============================] - 0s 6ms/step - loss: 0.3592 - accuracy: 0.8404 - val_loss: 0.5139 - val_accuracy: 0.7597\n",
            "Epoch 24/100\n",
            "20/20 [==============================] - 0s 6ms/step - loss: 0.3555 - accuracy: 0.8420 - val_loss: 0.5371 - val_accuracy: 0.7727\n",
            "Epoch 25/100\n",
            "20/20 [==============================] - 0s 7ms/step - loss: 0.3511 - accuracy: 0.8583 - val_loss: 0.5397 - val_accuracy: 0.7857\n",
            "Epoch 26/100\n",
            "20/20 [==============================] - 0s 7ms/step - loss: 0.3443 - accuracy: 0.8420 - val_loss: 0.5268 - val_accuracy: 0.7727\n",
            "Epoch 27/100\n",
            "20/20 [==============================] - 0s 7ms/step - loss: 0.3381 - accuracy: 0.8550 - val_loss: 0.5164 - val_accuracy: 0.7727\n",
            "Epoch 28/100\n",
            "20/20 [==============================] - 0s 9ms/step - loss: 0.3315 - accuracy: 0.8550 - val_loss: 0.5350 - val_accuracy: 0.7727\n",
            "Epoch 29/100\n",
            "20/20 [==============================] - 0s 6ms/step - loss: 0.3241 - accuracy: 0.8616 - val_loss: 0.5447 - val_accuracy: 0.7727\n",
            "Epoch 30/100\n",
            "20/20 [==============================] - 0s 7ms/step - loss: 0.3241 - accuracy: 0.8567 - val_loss: 0.5431 - val_accuracy: 0.7792\n",
            "Epoch 31/100\n",
            "20/20 [==============================] - 0s 6ms/step - loss: 0.3143 - accuracy: 0.8697 - val_loss: 0.5670 - val_accuracy: 0.7792\n",
            "Epoch 32/100\n",
            "20/20 [==============================] - 0s 6ms/step - loss: 0.3143 - accuracy: 0.8567 - val_loss: 0.5606 - val_accuracy: 0.7662\n",
            "Epoch 33/100\n",
            "20/20 [==============================] - 0s 20ms/step - loss: 0.3046 - accuracy: 0.8713 - val_loss: 0.5873 - val_accuracy: 0.7662\n",
            "Epoch 34/100\n",
            "20/20 [==============================] - 0s 13ms/step - loss: 0.3037 - accuracy: 0.8648 - val_loss: 0.5645 - val_accuracy: 0.7857\n",
            "Epoch 35/100\n",
            "20/20 [==============================] - 0s 13ms/step - loss: 0.2944 - accuracy: 0.8697 - val_loss: 0.6054 - val_accuracy: 0.7532\n",
            "Epoch 36/100\n",
            "20/20 [==============================] - 0s 20ms/step - loss: 0.2936 - accuracy: 0.8779 - val_loss: 0.5840 - val_accuracy: 0.7597\n",
            "Epoch 37/100\n",
            "20/20 [==============================] - 0s 14ms/step - loss: 0.2884 - accuracy: 0.8795 - val_loss: 0.5817 - val_accuracy: 0.7338\n",
            "Epoch 38/100\n",
            "20/20 [==============================] - 0s 15ms/step - loss: 0.2902 - accuracy: 0.8746 - val_loss: 0.6042 - val_accuracy: 0.7662\n",
            "Epoch 39/100\n",
            "20/20 [==============================] - 0s 13ms/step - loss: 0.2761 - accuracy: 0.8876 - val_loss: 0.5882 - val_accuracy: 0.7662\n",
            "Epoch 40/100\n",
            "20/20 [==============================] - 0s 7ms/step - loss: 0.2685 - accuracy: 0.8876 - val_loss: 0.6560 - val_accuracy: 0.7792\n",
            "Epoch 41/100\n",
            "20/20 [==============================] - 0s 7ms/step - loss: 0.2632 - accuracy: 0.8827 - val_loss: 0.5844 - val_accuracy: 0.7857\n",
            "Epoch 42/100\n",
            "20/20 [==============================] - 0s 6ms/step - loss: 0.2699 - accuracy: 0.8795 - val_loss: 0.5976 - val_accuracy: 0.7727\n",
            "Epoch 43/100\n",
            "20/20 [==============================] - 0s 6ms/step - loss: 0.2603 - accuracy: 0.8909 - val_loss: 0.6200 - val_accuracy: 0.7597\n",
            "Epoch 44/100\n",
            "20/20 [==============================] - 0s 6ms/step - loss: 0.2500 - accuracy: 0.8844 - val_loss: 0.6186 - val_accuracy: 0.7727\n",
            "Epoch 45/100\n",
            "20/20 [==============================] - 0s 7ms/step - loss: 0.2389 - accuracy: 0.9088 - val_loss: 0.6517 - val_accuracy: 0.7403\n",
            "Epoch 46/100\n",
            "20/20 [==============================] - 0s 8ms/step - loss: 0.2444 - accuracy: 0.9137 - val_loss: 0.6226 - val_accuracy: 0.7403\n",
            "Epoch 47/100\n",
            "20/20 [==============================] - 0s 8ms/step - loss: 0.2358 - accuracy: 0.9023 - val_loss: 0.6845 - val_accuracy: 0.7468\n",
            "Epoch 48/100\n",
            "20/20 [==============================] - 0s 8ms/step - loss: 0.2306 - accuracy: 0.9039 - val_loss: 0.6490 - val_accuracy: 0.7662\n",
            "Epoch 49/100\n",
            "20/20 [==============================] - 0s 7ms/step - loss: 0.2269 - accuracy: 0.9121 - val_loss: 0.6566 - val_accuracy: 0.7597\n",
            "Epoch 50/100\n",
            "20/20 [==============================] - 0s 6ms/step - loss: 0.2206 - accuracy: 0.9169 - val_loss: 0.7020 - val_accuracy: 0.7662\n",
            "Epoch 51/100\n",
            "20/20 [==============================] - 0s 7ms/step - loss: 0.2162 - accuracy: 0.9088 - val_loss: 0.7759 - val_accuracy: 0.7338\n",
            "Epoch 52/100\n",
            "20/20 [==============================] - 0s 8ms/step - loss: 0.2119 - accuracy: 0.9251 - val_loss: 0.6864 - val_accuracy: 0.7532\n",
            "Epoch 53/100\n",
            "20/20 [==============================] - 0s 8ms/step - loss: 0.2077 - accuracy: 0.9218 - val_loss: 0.6760 - val_accuracy: 0.7532\n",
            "Epoch 54/100\n",
            "20/20 [==============================] - 0s 7ms/step - loss: 0.2025 - accuracy: 0.9300 - val_loss: 0.6827 - val_accuracy: 0.7727\n",
            "Epoch 55/100\n",
            "20/20 [==============================] - 0s 7ms/step - loss: 0.1969 - accuracy: 0.9267 - val_loss: 0.7302 - val_accuracy: 0.7727\n",
            "Epoch 56/100\n",
            "20/20 [==============================] - 0s 6ms/step - loss: 0.1910 - accuracy: 0.9202 - val_loss: 0.7377 - val_accuracy: 0.7143\n",
            "Epoch 57/100\n",
            "20/20 [==============================] - 0s 9ms/step - loss: 0.1869 - accuracy: 0.9397 - val_loss: 0.7356 - val_accuracy: 0.7143\n",
            "Epoch 58/100\n",
            "20/20 [==============================] - 0s 13ms/step - loss: 0.1844 - accuracy: 0.9283 - val_loss: 0.7307 - val_accuracy: 0.7597\n",
            "Epoch 59/100\n",
            "20/20 [==============================] - 0s 12ms/step - loss: 0.1837 - accuracy: 0.9300 - val_loss: 0.7725 - val_accuracy: 0.7338\n",
            "Epoch 60/100\n",
            "20/20 [==============================] - 0s 14ms/step - loss: 0.1835 - accuracy: 0.9300 - val_loss: 0.8664 - val_accuracy: 0.7597\n",
            "Epoch 61/100\n",
            "20/20 [==============================] - 0s 10ms/step - loss: 0.1702 - accuracy: 0.9446 - val_loss: 0.7904 - val_accuracy: 0.7468\n",
            "Epoch 62/100\n",
            "20/20 [==============================] - 0s 16ms/step - loss: 0.1632 - accuracy: 0.9479 - val_loss: 0.7455 - val_accuracy: 0.7662\n",
            "Epoch 63/100\n",
            "20/20 [==============================] - 0s 10ms/step - loss: 0.1630 - accuracy: 0.9446 - val_loss: 0.7774 - val_accuracy: 0.7338\n",
            "Epoch 64/100\n",
            "20/20 [==============================] - 0s 13ms/step - loss: 0.1683 - accuracy: 0.9316 - val_loss: 0.7897 - val_accuracy: 0.7662\n",
            "Epoch 65/100\n",
            "20/20 [==============================] - 0s 11ms/step - loss: 0.1561 - accuracy: 0.9430 - val_loss: 0.7778 - val_accuracy: 0.7597\n",
            "Epoch 66/100\n",
            "20/20 [==============================] - 0s 11ms/step - loss: 0.1431 - accuracy: 0.9528 - val_loss: 0.9169 - val_accuracy: 0.7468\n",
            "Epoch 67/100\n",
            "20/20 [==============================] - 0s 12ms/step - loss: 0.1453 - accuracy: 0.9495 - val_loss: 0.8533 - val_accuracy: 0.7857\n",
            "Epoch 68/100\n",
            "20/20 [==============================] - 0s 13ms/step - loss: 0.1448 - accuracy: 0.9463 - val_loss: 0.7866 - val_accuracy: 0.7338\n",
            "Epoch 69/100\n",
            "20/20 [==============================] - 0s 10ms/step - loss: 0.1416 - accuracy: 0.9528 - val_loss: 0.8802 - val_accuracy: 0.7468\n",
            "Epoch 70/100\n",
            "20/20 [==============================] - 0s 12ms/step - loss: 0.1341 - accuracy: 0.9560 - val_loss: 0.8265 - val_accuracy: 0.7597\n",
            "Epoch 71/100\n",
            "20/20 [==============================] - 0s 11ms/step - loss: 0.1322 - accuracy: 0.9528 - val_loss: 0.8427 - val_accuracy: 0.7468\n",
            "Epoch 72/100\n",
            "20/20 [==============================] - 0s 13ms/step - loss: 0.1205 - accuracy: 0.9544 - val_loss: 0.9358 - val_accuracy: 0.7273\n",
            "Epoch 73/100\n",
            "20/20 [==============================] - 0s 11ms/step - loss: 0.1267 - accuracy: 0.9544 - val_loss: 0.8539 - val_accuracy: 0.7208\n",
            "Epoch 74/100\n",
            "20/20 [==============================] - 0s 13ms/step - loss: 0.1100 - accuracy: 0.9625 - val_loss: 0.8969 - val_accuracy: 0.7662\n",
            "Epoch 75/100\n",
            "20/20 [==============================] - 0s 14ms/step - loss: 0.1238 - accuracy: 0.9609 - val_loss: 0.9399 - val_accuracy: 0.7468\n",
            "Epoch 76/100\n",
            "20/20 [==============================] - 0s 9ms/step - loss: 0.1118 - accuracy: 0.9642 - val_loss: 0.9021 - val_accuracy: 0.7403\n",
            "Epoch 77/100\n",
            "20/20 [==============================] - 0s 6ms/step - loss: 0.1113 - accuracy: 0.9609 - val_loss: 1.0111 - val_accuracy: 0.7532\n",
            "Epoch 78/100\n",
            "20/20 [==============================] - 0s 7ms/step - loss: 0.1195 - accuracy: 0.9560 - val_loss: 1.1709 - val_accuracy: 0.7208\n",
            "Epoch 79/100\n",
            "20/20 [==============================] - 0s 8ms/step - loss: 0.0992 - accuracy: 0.9691 - val_loss: 0.9984 - val_accuracy: 0.7208\n",
            "Epoch 80/100\n",
            "20/20 [==============================] - 0s 8ms/step - loss: 0.1031 - accuracy: 0.9625 - val_loss: 1.1077 - val_accuracy: 0.7532\n",
            "Epoch 81/100\n",
            "20/20 [==============================] - 0s 7ms/step - loss: 0.0924 - accuracy: 0.9739 - val_loss: 1.0255 - val_accuracy: 0.7857\n",
            "Epoch 82/100\n",
            "20/20 [==============================] - 0s 7ms/step - loss: 0.1037 - accuracy: 0.9593 - val_loss: 1.0520 - val_accuracy: 0.7403\n",
            "Epoch 83/100\n",
            "20/20 [==============================] - 0s 7ms/step - loss: 0.0934 - accuracy: 0.9642 - val_loss: 1.1296 - val_accuracy: 0.7143\n",
            "Epoch 84/100\n",
            "20/20 [==============================] - 0s 7ms/step - loss: 0.0854 - accuracy: 0.9658 - val_loss: 1.0832 - val_accuracy: 0.7143\n",
            "Epoch 85/100\n",
            "20/20 [==============================] - 0s 6ms/step - loss: 0.0836 - accuracy: 0.9739 - val_loss: 1.1179 - val_accuracy: 0.7403\n",
            "Epoch 86/100\n",
            "20/20 [==============================] - 0s 8ms/step - loss: 0.0820 - accuracy: 0.9739 - val_loss: 1.3421 - val_accuracy: 0.6753\n",
            "Epoch 87/100\n",
            "20/20 [==============================] - 0s 8ms/step - loss: 0.0883 - accuracy: 0.9707 - val_loss: 1.0642 - val_accuracy: 0.7532\n",
            "Epoch 88/100\n",
            "20/20 [==============================] - 0s 7ms/step - loss: 0.0871 - accuracy: 0.9691 - val_loss: 1.0456 - val_accuracy: 0.7208\n",
            "Epoch 89/100\n",
            "20/20 [==============================] - 0s 7ms/step - loss: 0.0669 - accuracy: 0.9805 - val_loss: 1.2664 - val_accuracy: 0.7468\n",
            "Epoch 90/100\n",
            "20/20 [==============================] - 0s 6ms/step - loss: 0.0822 - accuracy: 0.9739 - val_loss: 1.1358 - val_accuracy: 0.7338\n",
            "Epoch 91/100\n",
            "20/20 [==============================] - 0s 7ms/step - loss: 0.0715 - accuracy: 0.9886 - val_loss: 1.1502 - val_accuracy: 0.7468\n",
            "Epoch 92/100\n",
            "20/20 [==============================] - 0s 7ms/step - loss: 0.0672 - accuracy: 0.9902 - val_loss: 1.1339 - val_accuracy: 0.7468\n",
            "Epoch 93/100\n",
            "20/20 [==============================] - 0s 8ms/step - loss: 0.0624 - accuracy: 0.9886 - val_loss: 1.1735 - val_accuracy: 0.7208\n",
            "Epoch 94/100\n",
            "20/20 [==============================] - 0s 9ms/step - loss: 0.0604 - accuracy: 0.9853 - val_loss: 1.1689 - val_accuracy: 0.7468\n",
            "Epoch 95/100\n",
            "20/20 [==============================] - 0s 6ms/step - loss: 0.0811 - accuracy: 0.9658 - val_loss: 1.2290 - val_accuracy: 0.7143\n",
            "Epoch 96/100\n",
            "20/20 [==============================] - 0s 7ms/step - loss: 0.0725 - accuracy: 0.9788 - val_loss: 1.2864 - val_accuracy: 0.7338\n",
            "Epoch 97/100\n",
            "20/20 [==============================] - 0s 7ms/step - loss: 0.0494 - accuracy: 0.9935 - val_loss: 1.3206 - val_accuracy: 0.7532\n",
            "Epoch 98/100\n",
            "20/20 [==============================] - 0s 7ms/step - loss: 0.0692 - accuracy: 0.9723 - val_loss: 1.2781 - val_accuracy: 0.7208\n",
            "Epoch 99/100\n",
            "20/20 [==============================] - 0s 8ms/step - loss: 0.0565 - accuracy: 0.9837 - val_loss: 1.4052 - val_accuracy: 0.6818\n",
            "Epoch 100/100\n",
            "20/20 [==============================] - 0s 7ms/step - loss: 0.0545 - accuracy: 0.9870 - val_loss: 1.5020 - val_accuracy: 0.7013\n"
          ]
        },
        {
          "output_type": "execute_result",
          "data": {
            "text/plain": [
              "<keras.src.callbacks.History at 0x7eb662beaad0>"
            ]
          },
          "metadata": {},
          "execution_count": 62
        }
      ]
    },
    {
      "cell_type": "code",
      "source": [
        "def build_model3(hp):\n",
        "  model=Sequential()\n",
        "  counter=0\n",
        "  for i in range(hp.Int('num_layers',min_value=1,max_value=10)):\n",
        "    if counter==0:\n",
        "      model.add(Dense(hp.Int('units'+str(i),min_value=8,max_value=128,step=8),\n",
        "                      activation=hp.Choice('activation'+str(i),values=['relu','tanh','sigmoid']),\n",
        "                      input_dim=8\n",
        "                      )\n",
        "      )\n",
        "      model.add(Dropout(hp.Choice('dropout'+str(i),values=[0.1,0.2,0.3,0.4,0.5,0.6,0.7,0.8,0.9])))\n",
        "    else:\n",
        "      model.add(Dense(hp.Int('units'+str(i),min_value=8,max_value=128,step=8),\n",
        "                      activation=hp.Choice('activation'+str(i),values=['relu','tanh','sigmoid'])\n",
        "                      ))\n",
        "      model.add(Dropout(hp.Choice('dropout'+str(i),values=[0.1,0.2,0.3,0.4,0.5,0.6,0.7,0.8,0.9])))\n",
        "    counter+=1\n",
        "  model.add(Dense(1,activation='sigmoid'))\n",
        "  model.compile(optimizer=hp.Choice('optimizer',values=['adam','sgd','rmsprop']),loss='binary_crossentropy',metrics=['accuracy'])\n",
        "  return model"
      ],
      "metadata": {
        "id": "ARfcnVcNFffF"
      },
      "execution_count": 73,
      "outputs": []
    },
    {
      "cell_type": "code",
      "source": [
        "tuner3=kt.RandomSearch(build_model3,objective='val_accuracy',max_trials=5,directory='project',project_name='popaha')"
      ],
      "metadata": {
        "id": "t22TxVbVIEPJ"
      },
      "execution_count": 75,
      "outputs": []
    },
    {
      "cell_type": "code",
      "source": [
        "tuner3.search(x_train,y_train,epochs=5,validation_data=(x_test,y_test))"
      ],
      "metadata": {
        "id": "6J4aPT6-ISfw",
        "outputId": "1a24dbbf-9d29-41c5-f337-19ea25fc1642",
        "colab": {
          "base_uri": "https://localhost:8080/"
        }
      },
      "execution_count": 76,
      "outputs": [
        {
          "output_type": "stream",
          "name": "stdout",
          "text": [
            "Trial 5 Complete [00h 00m 04s]\n",
            "val_accuracy: 0.6948052048683167\n",
            "\n",
            "Best val_accuracy So Far: 0.7857142686843872\n",
            "Total elapsed time: 00h 00m 21s\n"
          ]
        }
      ]
    },
    {
      "cell_type": "code",
      "source": [
        "tuner3.get_best_hyperparameters()[0].values"
      ],
      "metadata": {
        "id": "h58JVfDZIfAl",
        "outputId": "ff7cc698-ba9d-43d1-a2d8-4c93c4ebe07d",
        "colab": {
          "base_uri": "https://localhost:8080/"
        }
      },
      "execution_count": 77,
      "outputs": [
        {
          "output_type": "execute_result",
          "data": {
            "text/plain": [
              "{'num_layers': 3,\n",
              " 'units0': 104,\n",
              " 'activation0': 'relu',\n",
              " 'dropout0': 0.2,\n",
              " 'optimizer': 'sgd',\n",
              " 'units1': 72,\n",
              " 'activation1': 'tanh',\n",
              " 'dropout1': 0.5,\n",
              " 'units2': 40,\n",
              " 'activation2': 'tanh',\n",
              " 'dropout2': 0.2,\n",
              " 'units3': 112,\n",
              " 'activation3': 'tanh',\n",
              " 'dropout3': 0.9}"
            ]
          },
          "metadata": {},
          "execution_count": 77
        }
      ]
    },
    {
      "cell_type": "code",
      "source": [
        "model=tuner3.get_best_models(num_models=1)[0]"
      ],
      "metadata": {
        "id": "PYDbDXFII3He"
      },
      "execution_count": 78,
      "outputs": []
    },
    {
      "cell_type": "code",
      "source": [
        "model.fit(x_train,y_train,epochs=100,initial_epoch=6,batch_size=32,validation_data=(x_test,y_test))"
      ],
      "metadata": {
        "id": "wXHWZN_0I_lt",
        "outputId": "ffb3fb0a-4195-4639-b7ab-442f99820942",
        "colab": {
          "base_uri": "https://localhost:8080/"
        }
      },
      "execution_count": 79,
      "outputs": [
        {
          "output_type": "stream",
          "name": "stdout",
          "text": [
            "Epoch 7/100\n",
            "20/20 [==============================] - 1s 20ms/step - loss: 0.5882 - accuracy: 0.7101 - val_loss: 0.5191 - val_accuracy: 0.7792\n",
            "Epoch 8/100\n",
            "20/20 [==============================] - 0s 7ms/step - loss: 0.5845 - accuracy: 0.7134 - val_loss: 0.5032 - val_accuracy: 0.7792\n",
            "Epoch 9/100\n",
            "20/20 [==============================] - 0s 6ms/step - loss: 0.5609 - accuracy: 0.7199 - val_loss: 0.4948 - val_accuracy: 0.7792\n",
            "Epoch 10/100\n",
            "20/20 [==============================] - 0s 7ms/step - loss: 0.5635 - accuracy: 0.7101 - val_loss: 0.4860 - val_accuracy: 0.7792\n",
            "Epoch 11/100\n",
            "20/20 [==============================] - 0s 6ms/step - loss: 0.5451 - accuracy: 0.7248 - val_loss: 0.4771 - val_accuracy: 0.7792\n",
            "Epoch 12/100\n",
            "20/20 [==============================] - 0s 9ms/step - loss: 0.5632 - accuracy: 0.7248 - val_loss: 0.4714 - val_accuracy: 0.7857\n",
            "Epoch 13/100\n",
            "20/20 [==============================] - 0s 9ms/step - loss: 0.5339 - accuracy: 0.7394 - val_loss: 0.4667 - val_accuracy: 0.7922\n",
            "Epoch 14/100\n",
            "20/20 [==============================] - 0s 7ms/step - loss: 0.5492 - accuracy: 0.7296 - val_loss: 0.4617 - val_accuracy: 0.7987\n",
            "Epoch 15/100\n",
            "20/20 [==============================] - 0s 7ms/step - loss: 0.5503 - accuracy: 0.7329 - val_loss: 0.4568 - val_accuracy: 0.7987\n",
            "Epoch 16/100\n",
            "20/20 [==============================] - 0s 7ms/step - loss: 0.5259 - accuracy: 0.7264 - val_loss: 0.4532 - val_accuracy: 0.7922\n",
            "Epoch 17/100\n",
            "20/20 [==============================] - 0s 7ms/step - loss: 0.5245 - accuracy: 0.7410 - val_loss: 0.4509 - val_accuracy: 0.7922\n",
            "Epoch 18/100\n",
            "20/20 [==============================] - 0s 8ms/step - loss: 0.5239 - accuracy: 0.7296 - val_loss: 0.4479 - val_accuracy: 0.7922\n",
            "Epoch 19/100\n",
            "20/20 [==============================] - 0s 8ms/step - loss: 0.5237 - accuracy: 0.7524 - val_loss: 0.4448 - val_accuracy: 0.8052\n",
            "Epoch 20/100\n",
            "20/20 [==============================] - 0s 7ms/step - loss: 0.5234 - accuracy: 0.7459 - val_loss: 0.4427 - val_accuracy: 0.8052\n",
            "Epoch 21/100\n",
            "20/20 [==============================] - 0s 7ms/step - loss: 0.5093 - accuracy: 0.7362 - val_loss: 0.4402 - val_accuracy: 0.8052\n",
            "Epoch 22/100\n",
            "20/20 [==============================] - 0s 7ms/step - loss: 0.5263 - accuracy: 0.7476 - val_loss: 0.4386 - val_accuracy: 0.8052\n",
            "Epoch 23/100\n",
            "20/20 [==============================] - 0s 7ms/step - loss: 0.5142 - accuracy: 0.7443 - val_loss: 0.4371 - val_accuracy: 0.8052\n",
            "Epoch 24/100\n",
            "20/20 [==============================] - 0s 8ms/step - loss: 0.5187 - accuracy: 0.7459 - val_loss: 0.4342 - val_accuracy: 0.8182\n",
            "Epoch 25/100\n",
            "20/20 [==============================] - 0s 13ms/step - loss: 0.5210 - accuracy: 0.7508 - val_loss: 0.4340 - val_accuracy: 0.8182\n",
            "Epoch 26/100\n",
            "20/20 [==============================] - 0s 13ms/step - loss: 0.5008 - accuracy: 0.7590 - val_loss: 0.4337 - val_accuracy: 0.8182\n",
            "Epoch 27/100\n",
            "20/20 [==============================] - 0s 9ms/step - loss: 0.5162 - accuracy: 0.7394 - val_loss: 0.4314 - val_accuracy: 0.8182\n",
            "Epoch 28/100\n",
            "20/20 [==============================] - 0s 14ms/step - loss: 0.4937 - accuracy: 0.7541 - val_loss: 0.4311 - val_accuracy: 0.8182\n",
            "Epoch 29/100\n",
            "20/20 [==============================] - 0s 11ms/step - loss: 0.4937 - accuracy: 0.7573 - val_loss: 0.4316 - val_accuracy: 0.8117\n",
            "Epoch 30/100\n",
            "20/20 [==============================] - 0s 11ms/step - loss: 0.5004 - accuracy: 0.7622 - val_loss: 0.4300 - val_accuracy: 0.8182\n",
            "Epoch 31/100\n",
            "20/20 [==============================] - 0s 9ms/step - loss: 0.4991 - accuracy: 0.7557 - val_loss: 0.4292 - val_accuracy: 0.8182\n",
            "Epoch 32/100\n",
            "20/20 [==============================] - 0s 11ms/step - loss: 0.5103 - accuracy: 0.7508 - val_loss: 0.4288 - val_accuracy: 0.8247\n",
            "Epoch 33/100\n",
            "20/20 [==============================] - 0s 11ms/step - loss: 0.5093 - accuracy: 0.7687 - val_loss: 0.4280 - val_accuracy: 0.8247\n",
            "Epoch 34/100\n",
            "20/20 [==============================] - 0s 13ms/step - loss: 0.4873 - accuracy: 0.7541 - val_loss: 0.4270 - val_accuracy: 0.8247\n",
            "Epoch 35/100\n",
            "20/20 [==============================] - 0s 11ms/step - loss: 0.5059 - accuracy: 0.7557 - val_loss: 0.4281 - val_accuracy: 0.8182\n",
            "Epoch 36/100\n",
            "20/20 [==============================] - 0s 9ms/step - loss: 0.4996 - accuracy: 0.7687 - val_loss: 0.4256 - val_accuracy: 0.8247\n",
            "Epoch 37/100\n",
            "20/20 [==============================] - 0s 13ms/step - loss: 0.4858 - accuracy: 0.7671 - val_loss: 0.4252 - val_accuracy: 0.8312\n",
            "Epoch 38/100\n",
            "20/20 [==============================] - 0s 11ms/step - loss: 0.4933 - accuracy: 0.7687 - val_loss: 0.4273 - val_accuracy: 0.8182\n",
            "Epoch 39/100\n",
            "20/20 [==============================] - 0s 12ms/step - loss: 0.4906 - accuracy: 0.7720 - val_loss: 0.4260 - val_accuracy: 0.8247\n",
            "Epoch 40/100\n",
            "20/20 [==============================] - 0s 10ms/step - loss: 0.4906 - accuracy: 0.7573 - val_loss: 0.4257 - val_accuracy: 0.8182\n",
            "Epoch 41/100\n",
            "20/20 [==============================] - 0s 13ms/step - loss: 0.4939 - accuracy: 0.7655 - val_loss: 0.4266 - val_accuracy: 0.8182\n",
            "Epoch 42/100\n",
            "20/20 [==============================] - 0s 13ms/step - loss: 0.4867 - accuracy: 0.7687 - val_loss: 0.4260 - val_accuracy: 0.8182\n",
            "Epoch 43/100\n",
            "20/20 [==============================] - 0s 12ms/step - loss: 0.4943 - accuracy: 0.7687 - val_loss: 0.4252 - val_accuracy: 0.8182\n",
            "Epoch 44/100\n",
            "20/20 [==============================] - 0s 8ms/step - loss: 0.4779 - accuracy: 0.7573 - val_loss: 0.4243 - val_accuracy: 0.8312\n",
            "Epoch 45/100\n",
            "20/20 [==============================] - 0s 7ms/step - loss: 0.4919 - accuracy: 0.7590 - val_loss: 0.4238 - val_accuracy: 0.8312\n",
            "Epoch 46/100\n",
            "20/20 [==============================] - 0s 9ms/step - loss: 0.4895 - accuracy: 0.7655 - val_loss: 0.4243 - val_accuracy: 0.8312\n",
            "Epoch 47/100\n",
            "20/20 [==============================] - 0s 8ms/step - loss: 0.4902 - accuracy: 0.7573 - val_loss: 0.4229 - val_accuracy: 0.8312\n",
            "Epoch 48/100\n",
            "20/20 [==============================] - 0s 7ms/step - loss: 0.4881 - accuracy: 0.7573 - val_loss: 0.4224 - val_accuracy: 0.8312\n",
            "Epoch 49/100\n",
            "20/20 [==============================] - 0s 7ms/step - loss: 0.4971 - accuracy: 0.7557 - val_loss: 0.4223 - val_accuracy: 0.8312\n",
            "Epoch 50/100\n",
            "20/20 [==============================] - 0s 9ms/step - loss: 0.4747 - accuracy: 0.7704 - val_loss: 0.4226 - val_accuracy: 0.8312\n",
            "Epoch 51/100\n",
            "20/20 [==============================] - 0s 7ms/step - loss: 0.4794 - accuracy: 0.7557 - val_loss: 0.4233 - val_accuracy: 0.8312\n",
            "Epoch 52/100\n",
            "20/20 [==============================] - 0s 8ms/step - loss: 0.4805 - accuracy: 0.7720 - val_loss: 0.4246 - val_accuracy: 0.8312\n",
            "Epoch 53/100\n",
            "20/20 [==============================] - 0s 8ms/step - loss: 0.4737 - accuracy: 0.7720 - val_loss: 0.4253 - val_accuracy: 0.8247\n",
            "Epoch 54/100\n",
            "20/20 [==============================] - 0s 7ms/step - loss: 0.4772 - accuracy: 0.7508 - val_loss: 0.4258 - val_accuracy: 0.8247\n",
            "Epoch 55/100\n",
            "20/20 [==============================] - 0s 5ms/step - loss: 0.4702 - accuracy: 0.7704 - val_loss: 0.4255 - val_accuracy: 0.8247\n",
            "Epoch 56/100\n",
            "20/20 [==============================] - 0s 6ms/step - loss: 0.4725 - accuracy: 0.7638 - val_loss: 0.4260 - val_accuracy: 0.8247\n",
            "Epoch 57/100\n",
            "20/20 [==============================] - 0s 8ms/step - loss: 0.4753 - accuracy: 0.7622 - val_loss: 0.4266 - val_accuracy: 0.8182\n",
            "Epoch 58/100\n",
            "20/20 [==============================] - 0s 7ms/step - loss: 0.4782 - accuracy: 0.7573 - val_loss: 0.4264 - val_accuracy: 0.8182\n",
            "Epoch 59/100\n",
            "20/20 [==============================] - 0s 9ms/step - loss: 0.4804 - accuracy: 0.7557 - val_loss: 0.4272 - val_accuracy: 0.8182\n",
            "Epoch 60/100\n",
            "20/20 [==============================] - 0s 8ms/step - loss: 0.4727 - accuracy: 0.7915 - val_loss: 0.4260 - val_accuracy: 0.8247\n",
            "Epoch 61/100\n",
            "20/20 [==============================] - 0s 6ms/step - loss: 0.4765 - accuracy: 0.7752 - val_loss: 0.4240 - val_accuracy: 0.8312\n",
            "Epoch 62/100\n",
            "20/20 [==============================] - 0s 7ms/step - loss: 0.4751 - accuracy: 0.7655 - val_loss: 0.4244 - val_accuracy: 0.8312\n",
            "Epoch 63/100\n",
            "20/20 [==============================] - 0s 6ms/step - loss: 0.4791 - accuracy: 0.7590 - val_loss: 0.4262 - val_accuracy: 0.8247\n",
            "Epoch 64/100\n",
            "20/20 [==============================] - 0s 7ms/step - loss: 0.4895 - accuracy: 0.7573 - val_loss: 0.4277 - val_accuracy: 0.8247\n",
            "Epoch 65/100\n",
            "20/20 [==============================] - 0s 7ms/step - loss: 0.4781 - accuracy: 0.7769 - val_loss: 0.4270 - val_accuracy: 0.8182\n",
            "Epoch 66/100\n",
            "20/20 [==============================] - 0s 11ms/step - loss: 0.4857 - accuracy: 0.7704 - val_loss: 0.4286 - val_accuracy: 0.8117\n",
            "Epoch 67/100\n",
            "20/20 [==============================] - 0s 7ms/step - loss: 0.4804 - accuracy: 0.7720 - val_loss: 0.4276 - val_accuracy: 0.8182\n",
            "Epoch 68/100\n",
            "20/20 [==============================] - 0s 7ms/step - loss: 0.4814 - accuracy: 0.7736 - val_loss: 0.4292 - val_accuracy: 0.8117\n",
            "Epoch 69/100\n",
            "20/20 [==============================] - 0s 7ms/step - loss: 0.4767 - accuracy: 0.7769 - val_loss: 0.4285 - val_accuracy: 0.8247\n",
            "Epoch 70/100\n",
            "20/20 [==============================] - 0s 7ms/step - loss: 0.4826 - accuracy: 0.7687 - val_loss: 0.4298 - val_accuracy: 0.8182\n",
            "Epoch 71/100\n",
            "20/20 [==============================] - 0s 7ms/step - loss: 0.4858 - accuracy: 0.7655 - val_loss: 0.4284 - val_accuracy: 0.8247\n",
            "Epoch 72/100\n",
            "20/20 [==============================] - 0s 9ms/step - loss: 0.4716 - accuracy: 0.7736 - val_loss: 0.4280 - val_accuracy: 0.8247\n",
            "Epoch 73/100\n",
            "20/20 [==============================] - 0s 8ms/step - loss: 0.4771 - accuracy: 0.7541 - val_loss: 0.4274 - val_accuracy: 0.8247\n",
            "Epoch 74/100\n",
            "20/20 [==============================] - 0s 7ms/step - loss: 0.4522 - accuracy: 0.7769 - val_loss: 0.4275 - val_accuracy: 0.8247\n",
            "Epoch 75/100\n",
            "20/20 [==============================] - 0s 6ms/step - loss: 0.4676 - accuracy: 0.7557 - val_loss: 0.4285 - val_accuracy: 0.8247\n",
            "Epoch 76/100\n",
            "20/20 [==============================] - 0s 6ms/step - loss: 0.4662 - accuracy: 0.7671 - val_loss: 0.4283 - val_accuracy: 0.8247\n",
            "Epoch 77/100\n",
            "20/20 [==============================] - 0s 6ms/step - loss: 0.4755 - accuracy: 0.7752 - val_loss: 0.4288 - val_accuracy: 0.8182\n",
            "Epoch 78/100\n",
            "20/20 [==============================] - 0s 10ms/step - loss: 0.4625 - accuracy: 0.7752 - val_loss: 0.4291 - val_accuracy: 0.8182\n",
            "Epoch 79/100\n",
            "20/20 [==============================] - 0s 8ms/step - loss: 0.4560 - accuracy: 0.7785 - val_loss: 0.4287 - val_accuracy: 0.8182\n",
            "Epoch 80/100\n",
            "20/20 [==============================] - 0s 8ms/step - loss: 0.4609 - accuracy: 0.7704 - val_loss: 0.4278 - val_accuracy: 0.8117\n",
            "Epoch 81/100\n",
            "20/20 [==============================] - 0s 7ms/step - loss: 0.4721 - accuracy: 0.7687 - val_loss: 0.4280 - val_accuracy: 0.8117\n",
            "Epoch 82/100\n",
            "20/20 [==============================] - 0s 6ms/step - loss: 0.4783 - accuracy: 0.7752 - val_loss: 0.4288 - val_accuracy: 0.8247\n",
            "Epoch 83/100\n",
            "20/20 [==============================] - 0s 7ms/step - loss: 0.4782 - accuracy: 0.7752 - val_loss: 0.4297 - val_accuracy: 0.8247\n",
            "Epoch 84/100\n",
            "20/20 [==============================] - 0s 8ms/step - loss: 0.4819 - accuracy: 0.7687 - val_loss: 0.4284 - val_accuracy: 0.8182\n",
            "Epoch 85/100\n",
            "20/20 [==============================] - 0s 9ms/step - loss: 0.4656 - accuracy: 0.7752 - val_loss: 0.4299 - val_accuracy: 0.8247\n",
            "Epoch 86/100\n",
            "20/20 [==============================] - 0s 8ms/step - loss: 0.4790 - accuracy: 0.7541 - val_loss: 0.4285 - val_accuracy: 0.8182\n",
            "Epoch 87/100\n",
            "20/20 [==============================] - 0s 7ms/step - loss: 0.4649 - accuracy: 0.7736 - val_loss: 0.4298 - val_accuracy: 0.8182\n",
            "Epoch 88/100\n",
            "20/20 [==============================] - 0s 7ms/step - loss: 0.4697 - accuracy: 0.7834 - val_loss: 0.4304 - val_accuracy: 0.8182\n",
            "Epoch 89/100\n",
            "20/20 [==============================] - 0s 8ms/step - loss: 0.4754 - accuracy: 0.7883 - val_loss: 0.4299 - val_accuracy: 0.8182\n",
            "Epoch 90/100\n",
            "20/20 [==============================] - 0s 8ms/step - loss: 0.4778 - accuracy: 0.7704 - val_loss: 0.4297 - val_accuracy: 0.8117\n",
            "Epoch 91/100\n",
            "20/20 [==============================] - 0s 9ms/step - loss: 0.4646 - accuracy: 0.7687 - val_loss: 0.4308 - val_accuracy: 0.8052\n",
            "Epoch 92/100\n",
            "20/20 [==============================] - 0s 7ms/step - loss: 0.4644 - accuracy: 0.7769 - val_loss: 0.4312 - val_accuracy: 0.8117\n",
            "Epoch 93/100\n",
            "20/20 [==============================] - 0s 7ms/step - loss: 0.4685 - accuracy: 0.7720 - val_loss: 0.4324 - val_accuracy: 0.8117\n",
            "Epoch 94/100\n",
            "20/20 [==============================] - 0s 6ms/step - loss: 0.4656 - accuracy: 0.7704 - val_loss: 0.4346 - val_accuracy: 0.8052\n",
            "Epoch 95/100\n",
            "20/20 [==============================] - 0s 6ms/step - loss: 0.4785 - accuracy: 0.7638 - val_loss: 0.4329 - val_accuracy: 0.8052\n",
            "Epoch 96/100\n",
            "20/20 [==============================] - 0s 6ms/step - loss: 0.4497 - accuracy: 0.7850 - val_loss: 0.4314 - val_accuracy: 0.8117\n",
            "Epoch 97/100\n",
            "20/20 [==============================] - 0s 9ms/step - loss: 0.4587 - accuracy: 0.7736 - val_loss: 0.4323 - val_accuracy: 0.8182\n",
            "Epoch 98/100\n",
            "20/20 [==============================] - 0s 8ms/step - loss: 0.4716 - accuracy: 0.7818 - val_loss: 0.4329 - val_accuracy: 0.8182\n",
            "Epoch 99/100\n",
            "20/20 [==============================] - 0s 7ms/step - loss: 0.4512 - accuracy: 0.7964 - val_loss: 0.4335 - val_accuracy: 0.8182\n",
            "Epoch 100/100\n",
            "20/20 [==============================] - 0s 7ms/step - loss: 0.4616 - accuracy: 0.7785 - val_loss: 0.4342 - val_accuracy: 0.8117\n"
          ]
        },
        {
          "output_type": "execute_result",
          "data": {
            "text/plain": [
              "<keras.src.callbacks.History at 0x7eb662167310>"
            ]
          },
          "metadata": {},
          "execution_count": 79
        }
      ]
    },
    {
      "cell_type": "code",
      "source": [],
      "metadata": {
        "id": "gt7Kt66pJDsh"
      },
      "execution_count": null,
      "outputs": []
    }
  ]
}